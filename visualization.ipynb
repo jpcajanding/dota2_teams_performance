{
 "cells": [
  {
   "cell_type": "markdown",
   "metadata": {},
   "source": [
    "# Visualizing Dota 2 Teams Performance"
   ]
  },
  {
   "cell_type": "code",
   "execution_count": 15,
   "metadata": {},
   "outputs": [],
   "source": [
    "import requests\n",
    "import time\n",
    "import pandas as pd\n",
    "import matplotlib.pyplot as plt\n",
    "import plotly.express as px\n",
    "import plotly.graph_objects as go\n",
    "from plotly.subplots import make_subplots"
   ]
  },
  {
   "cell_type": "markdown",
   "metadata": {},
   "source": [
    "The data had been fetched from OpenDota API and preprocessed to get a dataframe consisting of the results of the active teams for patch 7.26c."
   ]
  },
  {
   "cell_type": "code",
   "execution_count": 3,
   "metadata": {},
   "outputs": [
    {
     "output_type": "execute_result",
     "data": {
      "text/plain": "       dire_losses    dire_win     duration  gold_advantage       kills  \\\ncount   523.000000  523.000000   523.000000      523.000000  523.000000   \nmean      4.256214    4.216061  1888.094615    -7407.889566   -8.205521   \nstd       6.475073    7.373010   451.190497    13139.121196   15.069084   \nmin       0.000000    0.000000   540.000000   -42359.000000  -65.000000   \n25%       1.000000    0.000000  1572.395782   -18588.000000  -19.250000   \n50%       1.000000    1.000000  1949.166667    -4133.090909   -5.000000   \n75%       5.000000    5.000000  2170.572239     2147.500000    2.309524   \nmax      35.000000   42.000000  3566.000000    30995.000000   40.000000   \n\n          matches  radiant_losses  radiant_wins          team  \\\ncount  523.000000      523.000000    523.000000  5.230000e+02   \nmean    16.944551        4.216061      4.256214  6.965476e+06   \nstd     25.714070        6.588999      7.378864  1.815935e+06   \nmin      1.000000        0.000000      0.000000  4.000000e+00   \n25%      1.000000        0.000000      0.000000  7.099012e+06   \n50%      5.000000        1.000000      1.000000  7.731375e+06   \n75%     19.000000        5.000000      5.000000  7.957740e+06   \nmax    144.000000       46.000000     45.000000  8.041222e+06   \n\n       unique_heroes_banned_against  unique_heroes_played  xp_advantage  \ncount                    523.000000            523.000000    523.000000  \nmean                      28.483748             31.325048  -7613.957033  \nstd                       24.721615             29.447425  14604.859362  \nmin                        0.000000              0.000000 -49354.666667  \n25%                        6.000000              5.000000 -18754.906250  \n50%                       22.000000             21.000000  -5597.368421  \n75%                       44.500000             51.500000   2329.397993  \nmax                      102.000000            103.000000  46375.000000  ",
      "text/html": "<div>\n<style scoped>\n    .dataframe tbody tr th:only-of-type {\n        vertical-align: middle;\n    }\n\n    .dataframe tbody tr th {\n        vertical-align: top;\n    }\n\n    .dataframe thead th {\n        text-align: right;\n    }\n</style>\n<table border=\"1\" class=\"dataframe\">\n  <thead>\n    <tr style=\"text-align: right;\">\n      <th></th>\n      <th>dire_losses</th>\n      <th>dire_win</th>\n      <th>duration</th>\n      <th>gold_advantage</th>\n      <th>kills</th>\n      <th>matches</th>\n      <th>radiant_losses</th>\n      <th>radiant_wins</th>\n      <th>team</th>\n      <th>unique_heroes_banned_against</th>\n      <th>unique_heroes_played</th>\n      <th>xp_advantage</th>\n    </tr>\n  </thead>\n  <tbody>\n    <tr>\n      <th>count</th>\n      <td>523.000000</td>\n      <td>523.000000</td>\n      <td>523.000000</td>\n      <td>523.000000</td>\n      <td>523.000000</td>\n      <td>523.000000</td>\n      <td>523.000000</td>\n      <td>523.000000</td>\n      <td>5.230000e+02</td>\n      <td>523.000000</td>\n      <td>523.000000</td>\n      <td>523.000000</td>\n    </tr>\n    <tr>\n      <th>mean</th>\n      <td>4.256214</td>\n      <td>4.216061</td>\n      <td>1888.094615</td>\n      <td>-7407.889566</td>\n      <td>-8.205521</td>\n      <td>16.944551</td>\n      <td>4.216061</td>\n      <td>4.256214</td>\n      <td>6.965476e+06</td>\n      <td>28.483748</td>\n      <td>31.325048</td>\n      <td>-7613.957033</td>\n    </tr>\n    <tr>\n      <th>std</th>\n      <td>6.475073</td>\n      <td>7.373010</td>\n      <td>451.190497</td>\n      <td>13139.121196</td>\n      <td>15.069084</td>\n      <td>25.714070</td>\n      <td>6.588999</td>\n      <td>7.378864</td>\n      <td>1.815935e+06</td>\n      <td>24.721615</td>\n      <td>29.447425</td>\n      <td>14604.859362</td>\n    </tr>\n    <tr>\n      <th>min</th>\n      <td>0.000000</td>\n      <td>0.000000</td>\n      <td>540.000000</td>\n      <td>-42359.000000</td>\n      <td>-65.000000</td>\n      <td>1.000000</td>\n      <td>0.000000</td>\n      <td>0.000000</td>\n      <td>4.000000e+00</td>\n      <td>0.000000</td>\n      <td>0.000000</td>\n      <td>-49354.666667</td>\n    </tr>\n    <tr>\n      <th>25%</th>\n      <td>1.000000</td>\n      <td>0.000000</td>\n      <td>1572.395782</td>\n      <td>-18588.000000</td>\n      <td>-19.250000</td>\n      <td>1.000000</td>\n      <td>0.000000</td>\n      <td>0.000000</td>\n      <td>7.099012e+06</td>\n      <td>6.000000</td>\n      <td>5.000000</td>\n      <td>-18754.906250</td>\n    </tr>\n    <tr>\n      <th>50%</th>\n      <td>1.000000</td>\n      <td>1.000000</td>\n      <td>1949.166667</td>\n      <td>-4133.090909</td>\n      <td>-5.000000</td>\n      <td>5.000000</td>\n      <td>1.000000</td>\n      <td>1.000000</td>\n      <td>7.731375e+06</td>\n      <td>22.000000</td>\n      <td>21.000000</td>\n      <td>-5597.368421</td>\n    </tr>\n    <tr>\n      <th>75%</th>\n      <td>5.000000</td>\n      <td>5.000000</td>\n      <td>2170.572239</td>\n      <td>2147.500000</td>\n      <td>2.309524</td>\n      <td>19.000000</td>\n      <td>5.000000</td>\n      <td>5.000000</td>\n      <td>7.957740e+06</td>\n      <td>44.500000</td>\n      <td>51.500000</td>\n      <td>2329.397993</td>\n    </tr>\n    <tr>\n      <th>max</th>\n      <td>35.000000</td>\n      <td>42.000000</td>\n      <td>3566.000000</td>\n      <td>30995.000000</td>\n      <td>40.000000</td>\n      <td>144.000000</td>\n      <td>46.000000</td>\n      <td>45.000000</td>\n      <td>8.041222e+06</td>\n      <td>102.000000</td>\n      <td>103.000000</td>\n      <td>46375.000000</td>\n    </tr>\n  </tbody>\n</table>\n</div>"
     },
     "metadata": {},
     "execution_count": 3
    }
   ],
   "source": [
    "pro_results = pd.read_pickle('data\\pro_teams_results.pkl')\n",
    "pro_results.describe()"
   ]
  },
  {
   "cell_type": "code",
   "execution_count": 4,
   "metadata": {},
   "outputs": [
    {
     "output_type": "execute_result",
     "data": {
      "text/plain": "274"
     },
     "metadata": {},
     "execution_count": 4
    }
   ],
   "source": [
    "pro_results = pro_results[pro_results['matches']>4]\n",
    "len(pro_results)"
   ]
  },
  {
   "cell_type": "markdown",
   "metadata": {},
   "source": [
    "Team names and over all results were not included in the preprocessed data so let's get these data from OpenDota API and merge it to our current dataframe."
   ]
  },
  {
   "cell_type": "code",
   "execution_count": 4,
   "metadata": {
    "tags": []
   },
   "outputs": [
    {
     "output_type": "stream",
     "name": "stdout",
     "text": "<Response [200]>\nGetting data for team 6953913.0.\n<Response [200]>\nGetting data for team 6685591.0.\n<Response [200]>\nGetting data for team 2163.0.\n<Response [200]>\nGetting data for team 2586976.0.\n<Response [200]>\nGetting data for team 7684041.0.\n<Response [200]>\nGetting data for team 7554697.0.\n<Response [200]>\nGetting data for team 1838315.0.\n<Response [200]>\nGetting data for team 7820540.0.\n<Response [200]>\nGetting data for team 111474.0.\n<Response [200]>\nGetting data for team 7819701.0.\n<Response [200]>\nGetting data for team 7930695.0.\n<Response [200]>\nGetting data for team 6209143.0.\n<Response [200]>\nGetting data for team 6214973.0.\n<Response [200]>\nGetting data for team 7119388.0.\n<Response [200]>\nGetting data for team 1883502.0.\n<Response [200]>\nGetting data for team 36.0.\n<Response [200]>\nGetting data for team 726228.0.\n<Response [200]>\nGetting data for team 7407260.0.\n<Response [200]>\nGetting data for team 4.0.\n<Response [200]>\nGetting data for team 1375614.0.\n<Response [200]>\nGetting data for team 15.0.\n<Response [200]>\nGetting data for team 6209166.0.\n<Response [200]>\nGetting data for team 5.0.\n<Response [200]>\nGetting data for team 1520578.0.\n<Response [200]>\nGetting data for team 2277712.0.\n<Response [200]>\nGetting data for team 6209804.0.\n<Response [200]>\nGetting data for team 7059982.0.\n<Response [200]>\nGetting data for team 7514223.0.\n<Response [200]>\nGetting data for team 2626685.0.\n<Response [200]>\nGetting data for team 7653600.0.\n<Response [200]>\nGetting data for team 7667517.0.\n<Response [200]>\nGetting data for team 2640025.0.\n<Response [200]>\nGetting data for team 7470549.0.\n<Response [200]>\nGetting data for team 7267298.0.\n<Response [200]>\nGetting data for team 7422511.0.\n<Response [200]>\nGetting data for team 166.0.\n<Response [200]>\nGetting data for team 8022392.0.\n<Response [200]>\nGetting data for team 8022788.0.\n<Response [200]>\nGetting data for team 46.0.\n<Response [200]>\nGetting data for team 7422789.0.\n<Response [200]>\nGetting data for team 7555613.0.\n<Response [200]>\nGetting data for team 7732977.0.\n<Response [200]>\nGetting data for team 350190.0.\n<Response [200]>\nGetting data for team 7424172.0.\n<Response [200]>\nGetting data for team 7098928.0.\n<Response [200]>\nGetting data for team 6187657.0.\n<Response [200]>\nGetting data for team 7404529.0.\n<Response [200]>\nGetting data for team 3586078.0.\n<Response [200]>\nGetting data for team 6738815.0.\n<Response [200]>\nGetting data for team 7977167.0.\n<Response [200]>\nGetting data for team 7408845.0.\n<Response [200]>\nGetting data for team 7980917.0.\n<Response [200]>\nGetting data for team 2108395.0.\n<Response [200]>\nGetting data for team 7453020.0.\n<Response [200]>\nGetting data for team 7667536.0.\n<Response [200]>\nGetting data for team 7764128.0.\n<Response [200]>\nGetting data for team 4817649.0.\n<Response [200]>\nGetting data for team 5837973.0.\n<Response [200]>\nGetting data for team 7847691.0.\n<Response [200]>\nGetting data for team 7849151.0.\n<Response [200]>\nGetting data for team 7118032.0.\n<Response [200]>\nGetting data for team 7849410.0.\n<Response [200]>\nGetting data for team 7453744.0.\n<Response [200]>\nGetting data for team 7669103.0.\n<Response [200]>\nGetting data for team 6409189.0.\n<Response [200]>\nGetting data for team 7390454.0.\n<Response [200]>\nGetting data for team 7748744.0.\n<Response [200]>\nGetting data for team 7819028.0.\n<Response [200]>\nGetting data for team 7917486.0.\n<Response [200]>\nGetting data for team 7441136.0.\n<Response [200]>\nGetting data for team 8022625.0.\n<Response [200]>\nGetting data for team 6382242.0.\n<Response [200]>\nGetting data for team 39.0.\n<Response [200]>\nGetting data for team 7681441.0.\n<Response [200]>\nGetting data for team 7542148.0.\n<Response [200]>\nGetting data for team 5014799.0.\n<Response [200]>\nGetting data for team 7848119.0.\n<Response [200]>\nGetting data for team 7894580.0.\n<Response [200]>\nGetting data for team 8021531.0.\n<Response [200]>\nGetting data for team 6740284.0.\n<Response [200]>\nGetting data for team 7684721.0.\n<Response [200]>\nGetting data for team 7251006.0.\n<Response [200]>\nGetting data for team 7486089.0.\n<Response [200]>\nGetting data for team 2898453.0.\n<Response [200]>\nGetting data for team 6490995.0.\n<Response [200]>\nGetting data for team 7556672.0.\n<Response [200]>\nGetting data for team 7913710.0.\n<Response [200]>\nGetting data for team 7913999.0.\n<Response [200]>\nGetting data for team 2672298.0.\n<Response [200]>\nGetting data for team 6266565.0.\n<Response [200]>\nGetting data for team 7121518.0.\n<Response [200]>\nGetting data for team 7389602.0.\n<Response [200]>\nGetting data for team 7869044.0.\n<Response [200]>\nGetting data for team 4818448.0.\n<Response [200]>\nGetting data for team 7958924.0.\n<Response [200]>\nGetting data for team 5167450.0.\n<Response [200]>\nGetting data for team 7977463.0.\n<Response [200]>\nGetting data for team 7484403.0.\n<Response [200]>\nGetting data for team 5099620.0.\n<Response [200]>\nGetting data for team 7204148.0.\n<Response [200]>\nGetting data for team 7406964.0.\n<Response [200]>\nGetting data for team 7716098.0.\n<Response [200]>\nGetting data for team 6792721.0.\n<Response [200]>\nGetting data for team 8012320.0.\n<Response [200]>\nGetting data for team 7976584.0.\n<Response [200]>\nGetting data for team 7716206.0.\n<Response [200]>\nGetting data for team 1917662.0.\n<Response [200]>\nGetting data for team 8021940.0.\n<Response [200]>\nGetting data for team 7997224.0.\n<Response [200]>\nGetting data for team 7314682.0.\n<Response [200]>\nGetting data for team 5219641.0.\n<Response [200]>\nGetting data for team 7718191.0.\n<Response [200]>\nGetting data for team 7099096.0.\n<Response [200]>\nGetting data for team 7939331.0.\n<Response [200]>\nGetting data for team 7668075.0.\n<Response [200]>\nGetting data for team 7765736.0.\n<Response [200]>\nGetting data for team 7912818.0.\n<Response [200]>\nGetting data for team 7819112.0.\n<Response [200]>\nGetting data for team 7642128.0.\n<Response [200]>\nGetting data for team 7298091.0.\n<Response [200]>\nGetting data for team 7684881.0.\n<Response [200]>\nGetting data for team 7034601.0.\n<Response [200]>\nGetting data for team 7978798.0.\n<Response [200]>\nGetting data for team 2725880.0.\n<Response [200]>\nGetting data for team 674762.0.\n<Response [200]>\nGetting data for team 7959677.0.\n<Response [200]>\nGetting data for team 8022416.0.\n<Response [200]>\nGetting data for team 7764709.0.\n<Response [200]>\nGetting data for team 7996387.0.\n<Response [200]>\nGetting data for team 7683797.0.\n<Response [200]>\nGetting data for team 5489077.0.\n<Response [200]>\nGetting data for team 7916085.0.\n<Response [200]>\nGetting data for team 7934335.0.\n<Response [200]>\nGetting data for team 6795631.0.\n<Response [200]>\nGetting data for team 7833289.0.\n<Response [200]>\nGetting data for team 2296340.0.\n<Response [200]>\nGetting data for team 3812482.0.\n<Response [200]>\nGetting data for team 7996797.0.\n<Response [200]>\nGetting data for team 7626543.0.\n<Response [200]>\nGetting data for team 7623629.0.\n<Response [200]>\nGetting data for team 7630152.0.\n<Response [200]>\nGetting data for team 7800448.0.\n<Response [200]>\nGetting data for team 8022932.0.\n<Response [200]>\nGetting data for team 8022502.0.\n<Response [200]>\nGetting data for team 5226684.0.\n<Response [200]>\nGetting data for team 8022405.0.\n<Response [200]>\nGetting data for team 8022412.0.\n<Response [200]>\nGetting data for team 7851771.0.\n<Response [200]>\nGetting data for team 7751001.0.\n<Response [200]>\nGetting data for team 7101663.0.\n<Response [200]>\nGetting data for team 5805234.0.\n<Response [200]>\nGetting data for team 7700247.0.\n<Response [200]>\nGetting data for team 6849739.0.\n<Response [200]>\nGetting data for team 5055770.0.\n<Response [200]>\nGetting data for team 7624504.0.\n<Response [200]>\nGetting data for team 7873749.0.\n<Response [200]>\nGetting data for team 6818714.0.\n<Response [200]>\nGetting data for team 7653080.0.\n<Response [200]>\nGetting data for team 7565483.0.\n<Response [200]>\nGetting data for team 5010634.0.\n<Response [200]>\nGetting data for team 7848115.0.\n<Response [200]>\nGetting data for team 7998327.0.\n<Response [200]>\nGetting data for team 7937856.0.\n<Response [200]>\nGetting data for team 7998461.0.\n<Response [200]>\nGetting data for team 7893914.0.\n<Response [200]>\nGetting data for team 7731375.0.\n<Response [200]>\nGetting data for team 7872607.0.\n<Response [200]>\nGetting data for team 7996429.0.\n<Response [200]>\nGetting data for team 7817468.0.\n<Response [200]>\nGetting data for team 7802708.0.\n<Response [200]>\nGetting data for team 7358634.0.\n<Response [200]>\nGetting data for team 7978788.0.\n<Response [200]>\nGetting data for team 7855913.0.\n<Response [200]>\nGetting data for team 7855956.0.\n<Response [200]>\nGetting data for team 7821743.0.\n<Response [200]>\nGetting data for team 7818220.0.\n<Response [200]>\nGetting data for team 7822279.0.\n<Response [200]>\nGetting data for team 7577645.0.\n<Response [200]>\nGetting data for team 7870199.0.\n<Response [200]>\nGetting data for team 7781709.0.\n<Response [200]>\nGetting data for team 7395534.0.\n<Response [200]>\nGetting data for team 7958190.0.\n<Response [200]>\nGetting data for team 7958206.0.\n<Response [200]>\nGetting data for team 7782774.0.\n<Response [200]>\nGetting data for team 7958188.0.\n<Response [200]>\nGetting data for team 5209335.0.\n<Response [200]>\nGetting data for team 7855864.0.\n<Response [200]>\nGetting data for team 1730778.0.\n<Response [200]>\nGetting data for team 7890504.0.\n<Response [200]>\nGetting data for team 2224698.0.\n<Response [200]>\nGetting data for team 7681113.0.\n<Response [200]>\nGetting data for team 7764015.0.\n<Response [200]>\nGetting data for team 7009107.0.\n<Response [200]>\nGetting data for team 5157007.0.\n<Response [200]>\nGetting data for team 8012609.0.\n<Response [200]>\nGetting data for team 7851479.0.\n<Response [200]>\nGetting data for team 7957064.0.\n<Response [200]>\nGetting data for team 8032335.0.\n<Response [200]>\nGetting data for team 7957741.0.\n<Response [200]>\nGetting data for team 7684389.0.\n<Response [200]>\nGetting data for team 7700123.0.\n<Response [200]>\nGetting data for team 6592136.0.\n<Response [200]>\nGetting data for team 2025160.0.\n<Response [200]>\nGetting data for team 7995744.0.\n<Response [200]>\nGetting data for team 7938639.0.\n<Response [200]>\nGetting data for team 7960275.0.\n<Response [200]>\nGetting data for team 5229568.0.\n<Response [200]>\nGetting data for team 7847979.0.\n<Response [200]>\nGetting data for team 7528248.0.\n<Response [200]>\nGetting data for team 5681778.0.\n<Response [200]>\nGetting data for team 7565585.0.\n<Response [200]>\nGetting data for team 7937261.0.\n<Response [200]>\nGetting data for team 7731123.0.\n<Response [200]>\nGetting data for team 7423567.0.\n<Response [200]>\nGetting data for team 7850085.0.\n<Response [200]>\nGetting data for team 7423598.0.\n<Response [200]>\nGetting data for team 6634461.0.\n<Response [200]>\nGetting data for team 7846103.0.\n<Response [200]>\nGetting data for team 7405690.0.\n<Response [200]>\nGetting data for team 7405034.0.\n<Response [200]>\nGetting data for team 7253435.0.\n<Response [200]>\nGetting data for team 7610494.0.\n<Response [200]>\nGetting data for team 7612347.0.\n<Response [200]>\nGetting data for team 7355343.0.\n<Response [200]>\nGetting data for team 7639670.0.\n<Response [200]>\nGetting data for team 7935474.0.\n<Response [200]>\nGetting data for team 6593573.0.\n<Response [200]>\nGetting data for team 2237629.0.\n<Response [200]>\nGetting data for team 7800726.0.\n<Response [200]>\nGetting data for team 7916773.0.\n<Response [200]>\nGetting data for team 7642003.0.\n<Response [200]>\nGetting data for team 7610648.0.\n<Response [200]>\nGetting data for team 7358551.0.\n<Response [200]>\nGetting data for team 7852001.0.\n<Response [200]>\nGetting data for team 7852051.0.\n<Response [200]>\nGetting data for team 7217630.0.\n<Response [200]>\nGetting data for team 7467638.0.\n<Response [200]>\nGetting data for team 7868515.0.\n<Response [200]>\nGetting data for team 7314697.0.\n<Response [200]>\nGetting data for team 7852100.0.\n<Response [200]>\nGetting data for team 7976365.0.\n<Response [200]>\nGetting data for team 7610605.0.\n<Response [200]>\nGetting data for team 7852002.0.\n<Response [200]>\nGetting data for team 7467652.0.\n<Response [200]>\nGetting data for team 8022808.0.\n<Response [200]>\nGetting data for team 7585997.0.\n<Response [200]>\nGetting data for team 7939330.0.\n<Response [200]>\nGetting data for team 7871238.0.\n<Response [200]>\nGetting data for team 7959663.0.\n<Response [200]>\nGetting data for team 6264715.0.\n<Response [200]>\nGetting data for team 7575511.0.\n<Response [200]>\nGetting data for team 7598508.0.\n<Response [200]>\nGetting data for team 8039681.0.\n<Response [200]>\nGetting data for team 7961141.0.\n<Response [200]>\nGetting data for team 8010823.0.\n<Response [200]>\nGetting data for team 7998560.0.\n<Response [200]>\nGetting data for team 8021984.0.\n<Response [200]>\nGetting data for team 7766541.0.\n<Response [200]>\nGetting data for team 8022370.0.\n<Response [200]>\nGetting data for team 7847178.0.\n<Response [200]>\nGetting data for team 7765472.0.\n<Response [200]>\nGetting data for team 8022265.0.\n<Response [200]>\nGetting data for team 8011648.0.\n<Response [200]>\nGetting data for team 7819879.0.\n<Response [200]>\nGetting data for team 8021130.0.\n<Response [200]>\nGetting data for team 7483630.0.\n<Response [200]>\nGetting data for team 6820176.0.\n<Response [200]>\nGetting data for team 7584150.0.\n<Response [200]>\nGetting data for team 4993511.0.\n<Response [200]>\nGetting data for team 7468974.0.\n<Response [200]>\nGetting data for team 7732883.0.\n<Response [200]>\nGetting data for team 8021491.0.\n<Response [200]>\nGetting data for team 7961113.0.\n<Response [200]>\nGetting data for team 7958179.0.\n"
    },
    {
     "output_type": "execute_result",
     "data": {
      "text/plain": "     dire_losses  dire_win     duration  gold_advantage     kills  matches  \\\n0           11.0       9.0  1979.500000     3708.707317  2.000000     82.0   \n1           12.0      14.0  2202.887640     1470.685393  3.202247     89.0   \n2           17.0      25.0  2264.843373     2333.795181  6.216867     83.0   \n3           21.0      18.0  1970.220588    -1795.161765 -3.941176     68.0   \n4           15.0       4.0  2199.514286    -8939.428571 -8.514286     35.0   \n..           ...       ...          ...             ...       ...      ...   \n269          3.0       2.0  1601.400000     1894.400000  0.600000      5.0   \n270          3.0       2.0  1499.000000     -441.200000 -4.200000      5.0   \n271          4.0       3.0  1895.285714    -1147.857143  5.714286      7.0   \n272          2.0       3.0  2237.000000     7044.000000  5.000000      5.0   \n273          4.0       1.0  2358.800000   -11567.200000 -8.600000      5.0   \n\n     radiant_losses  radiant_wins       team  unique_heroes_banned_against  \\\n0              21.0          41.0  6953913.0                          64.0   \n1              26.0          37.0  6685591.0                          66.0   \n2              18.0          23.0     2163.0                          74.0   \n3              14.0          15.0  2586976.0                          74.0   \n4              12.0           4.0  7684041.0                          55.0   \n..              ...           ...        ...                           ...   \n269             0.0           0.0  7468974.0                          20.0   \n270             0.0           0.0  7732883.0                          20.0   \n271             0.0           0.0  8021491.0                          22.0   \n272             0.0           0.0  7961113.0                          18.0   \n273             0.0           0.0  7958179.0                          20.0   \n\n     unique_heroes_played  xp_advantage  team_id    rating  wins  losses  \\\n0                    83.0   5052.487805  6953913  1333.300   153     121   \n1                    88.0   5037.449438  6685591  1303.130   204     127   \n2                    92.0   8657.590361     2163  1365.060   938     609   \n3                    88.0  -3224.500000  2586976  1283.560   604     352   \n4                    72.0 -11058.485714  7684041  1002.320    30      76   \n..                    ...           ...      ...       ...   ...     ...   \n269                  16.0   4146.600000  7468974   986.513    17      17   \n270                  23.0  -4783.800000  7732883   986.660     2       3   \n271                  22.0    684.285714  8021491   989.354     3       4   \n272                  19.0   6917.400000  7961113  1017.250     3       2   \n273                  19.0 -12597.200000  7958179   949.952     1       4   \n\n        last_match_time              name       tag  \\\n0   2020-07-05 17:08:51         FlyToMoon       FTM   \n1   2020-06-27 13:03:02          ViKin.gg  Vikin.gg   \n2   2020-06-28 14:07:56       Team Liquid    Liquid   \n3   2020-06-25 18:51:46                OG        OG   \n4   2020-06-24 12:57:55                B8        B8   \n..                  ...               ...       ...   \n269 2020-07-16 18:25:09         SandBlood        Sb   \n270 2020-05-17 07:53:13       GamersVille        GV   \n271 2020-06-12 07:00:32                EZ        EZ   \n272 2020-06-06 08:46:24  Stonetree Gaming      STG^   \n273 2020-05-15 01:07:15           Stoners       STN   \n\n                                              logo_url  \n0    https://steamusercontent-a.akamaihd.net/ugc/91...  \n1    https://steamusercontent-a.akamaihd.net/ugc/77...  \n2    https://steamcdn-a.akamaihd.net/apps/dota2/ima...  \n3    https://steamcdn-a.akamaihd.net/apps/dota2/ima...  \n4    https://steamusercontent-a.akamaihd.net/ugc/77...  \n..                                                 ...  \n269  https://steamusercontent-a.akamaihd.net/ugc/10...  \n270  https://steamusercontent-a.akamaihd.net/ugc/10...  \n271  https://steamusercontent-a.akamaihd.net/ugc/10...  \n272  https://steamusercontent-a.akamaihd.net/ugc/10...  \n273  https://steamusercontent-a.akamaihd.net/ugc/10...  \n\n[274 rows x 20 columns]",
      "text/html": "<div>\n<style scoped>\n    .dataframe tbody tr th:only-of-type {\n        vertical-align: middle;\n    }\n\n    .dataframe tbody tr th {\n        vertical-align: top;\n    }\n\n    .dataframe thead th {\n        text-align: right;\n    }\n</style>\n<table border=\"1\" class=\"dataframe\">\n  <thead>\n    <tr style=\"text-align: right;\">\n      <th></th>\n      <th>dire_losses</th>\n      <th>dire_win</th>\n      <th>duration</th>\n      <th>gold_advantage</th>\n      <th>kills</th>\n      <th>matches</th>\n      <th>radiant_losses</th>\n      <th>radiant_wins</th>\n      <th>team</th>\n      <th>unique_heroes_banned_against</th>\n      <th>unique_heroes_played</th>\n      <th>xp_advantage</th>\n      <th>team_id</th>\n      <th>rating</th>\n      <th>wins</th>\n      <th>losses</th>\n      <th>last_match_time</th>\n      <th>name</th>\n      <th>tag</th>\n      <th>logo_url</th>\n    </tr>\n  </thead>\n  <tbody>\n    <tr>\n      <th>0</th>\n      <td>11.0</td>\n      <td>9.0</td>\n      <td>1979.500000</td>\n      <td>3708.707317</td>\n      <td>2.000000</td>\n      <td>82.0</td>\n      <td>21.0</td>\n      <td>41.0</td>\n      <td>6953913.0</td>\n      <td>64.0</td>\n      <td>83.0</td>\n      <td>5052.487805</td>\n      <td>6953913</td>\n      <td>1333.300</td>\n      <td>153</td>\n      <td>121</td>\n      <td>2020-07-05 17:08:51</td>\n      <td>FlyToMoon</td>\n      <td>FTM</td>\n      <td>https://steamusercontent-a.akamaihd.net/ugc/91...</td>\n    </tr>\n    <tr>\n      <th>1</th>\n      <td>12.0</td>\n      <td>14.0</td>\n      <td>2202.887640</td>\n      <td>1470.685393</td>\n      <td>3.202247</td>\n      <td>89.0</td>\n      <td>26.0</td>\n      <td>37.0</td>\n      <td>6685591.0</td>\n      <td>66.0</td>\n      <td>88.0</td>\n      <td>5037.449438</td>\n      <td>6685591</td>\n      <td>1303.130</td>\n      <td>204</td>\n      <td>127</td>\n      <td>2020-06-27 13:03:02</td>\n      <td>ViKin.gg</td>\n      <td>Vikin.gg</td>\n      <td>https://steamusercontent-a.akamaihd.net/ugc/77...</td>\n    </tr>\n    <tr>\n      <th>2</th>\n      <td>17.0</td>\n      <td>25.0</td>\n      <td>2264.843373</td>\n      <td>2333.795181</td>\n      <td>6.216867</td>\n      <td>83.0</td>\n      <td>18.0</td>\n      <td>23.0</td>\n      <td>2163.0</td>\n      <td>74.0</td>\n      <td>92.0</td>\n      <td>8657.590361</td>\n      <td>2163</td>\n      <td>1365.060</td>\n      <td>938</td>\n      <td>609</td>\n      <td>2020-06-28 14:07:56</td>\n      <td>Team Liquid</td>\n      <td>Liquid</td>\n      <td>https://steamcdn-a.akamaihd.net/apps/dota2/ima...</td>\n    </tr>\n    <tr>\n      <th>3</th>\n      <td>21.0</td>\n      <td>18.0</td>\n      <td>1970.220588</td>\n      <td>-1795.161765</td>\n      <td>-3.941176</td>\n      <td>68.0</td>\n      <td>14.0</td>\n      <td>15.0</td>\n      <td>2586976.0</td>\n      <td>74.0</td>\n      <td>88.0</td>\n      <td>-3224.500000</td>\n      <td>2586976</td>\n      <td>1283.560</td>\n      <td>604</td>\n      <td>352</td>\n      <td>2020-06-25 18:51:46</td>\n      <td>OG</td>\n      <td>OG</td>\n      <td>https://steamcdn-a.akamaihd.net/apps/dota2/ima...</td>\n    </tr>\n    <tr>\n      <th>4</th>\n      <td>15.0</td>\n      <td>4.0</td>\n      <td>2199.514286</td>\n      <td>-8939.428571</td>\n      <td>-8.514286</td>\n      <td>35.0</td>\n      <td>12.0</td>\n      <td>4.0</td>\n      <td>7684041.0</td>\n      <td>55.0</td>\n      <td>72.0</td>\n      <td>-11058.485714</td>\n      <td>7684041</td>\n      <td>1002.320</td>\n      <td>30</td>\n      <td>76</td>\n      <td>2020-06-24 12:57:55</td>\n      <td>B8</td>\n      <td>B8</td>\n      <td>https://steamusercontent-a.akamaihd.net/ugc/77...</td>\n    </tr>\n    <tr>\n      <th>...</th>\n      <td>...</td>\n      <td>...</td>\n      <td>...</td>\n      <td>...</td>\n      <td>...</td>\n      <td>...</td>\n      <td>...</td>\n      <td>...</td>\n      <td>...</td>\n      <td>...</td>\n      <td>...</td>\n      <td>...</td>\n      <td>...</td>\n      <td>...</td>\n      <td>...</td>\n      <td>...</td>\n      <td>...</td>\n      <td>...</td>\n      <td>...</td>\n      <td>...</td>\n    </tr>\n    <tr>\n      <th>269</th>\n      <td>3.0</td>\n      <td>2.0</td>\n      <td>1601.400000</td>\n      <td>1894.400000</td>\n      <td>0.600000</td>\n      <td>5.0</td>\n      <td>0.0</td>\n      <td>0.0</td>\n      <td>7468974.0</td>\n      <td>20.0</td>\n      <td>16.0</td>\n      <td>4146.600000</td>\n      <td>7468974</td>\n      <td>986.513</td>\n      <td>17</td>\n      <td>17</td>\n      <td>2020-07-16 18:25:09</td>\n      <td>SandBlood</td>\n      <td>Sb</td>\n      <td>https://steamusercontent-a.akamaihd.net/ugc/10...</td>\n    </tr>\n    <tr>\n      <th>270</th>\n      <td>3.0</td>\n      <td>2.0</td>\n      <td>1499.000000</td>\n      <td>-441.200000</td>\n      <td>-4.200000</td>\n      <td>5.0</td>\n      <td>0.0</td>\n      <td>0.0</td>\n      <td>7732883.0</td>\n      <td>20.0</td>\n      <td>23.0</td>\n      <td>-4783.800000</td>\n      <td>7732883</td>\n      <td>986.660</td>\n      <td>2</td>\n      <td>3</td>\n      <td>2020-05-17 07:53:13</td>\n      <td>GamersVille</td>\n      <td>GV</td>\n      <td>https://steamusercontent-a.akamaihd.net/ugc/10...</td>\n    </tr>\n    <tr>\n      <th>271</th>\n      <td>4.0</td>\n      <td>3.0</td>\n      <td>1895.285714</td>\n      <td>-1147.857143</td>\n      <td>5.714286</td>\n      <td>7.0</td>\n      <td>0.0</td>\n      <td>0.0</td>\n      <td>8021491.0</td>\n      <td>22.0</td>\n      <td>22.0</td>\n      <td>684.285714</td>\n      <td>8021491</td>\n      <td>989.354</td>\n      <td>3</td>\n      <td>4</td>\n      <td>2020-06-12 07:00:32</td>\n      <td>EZ</td>\n      <td>EZ</td>\n      <td>https://steamusercontent-a.akamaihd.net/ugc/10...</td>\n    </tr>\n    <tr>\n      <th>272</th>\n      <td>2.0</td>\n      <td>3.0</td>\n      <td>2237.000000</td>\n      <td>7044.000000</td>\n      <td>5.000000</td>\n      <td>5.0</td>\n      <td>0.0</td>\n      <td>0.0</td>\n      <td>7961113.0</td>\n      <td>18.0</td>\n      <td>19.0</td>\n      <td>6917.400000</td>\n      <td>7961113</td>\n      <td>1017.250</td>\n      <td>3</td>\n      <td>2</td>\n      <td>2020-06-06 08:46:24</td>\n      <td>Stonetree Gaming</td>\n      <td>STG^</td>\n      <td>https://steamusercontent-a.akamaihd.net/ugc/10...</td>\n    </tr>\n    <tr>\n      <th>273</th>\n      <td>4.0</td>\n      <td>1.0</td>\n      <td>2358.800000</td>\n      <td>-11567.200000</td>\n      <td>-8.600000</td>\n      <td>5.0</td>\n      <td>0.0</td>\n      <td>0.0</td>\n      <td>7958179.0</td>\n      <td>20.0</td>\n      <td>19.0</td>\n      <td>-12597.200000</td>\n      <td>7958179</td>\n      <td>949.952</td>\n      <td>1</td>\n      <td>4</td>\n      <td>2020-05-15 01:07:15</td>\n      <td>Stoners</td>\n      <td>STN</td>\n      <td>https://steamusercontent-a.akamaihd.net/ugc/10...</td>\n    </tr>\n  </tbody>\n</table>\n<p>274 rows × 20 columns</p>\n</div>"
     },
     "metadata": {},
     "execution_count": 4
    }
   ],
   "source": [
    "teams = pd.DataFrame([])\n",
    "for team in pro_results['team']:\n",
    "    r = requests.get('https://api.opendota.com/api/teams/{}'.format(int(team)))\n",
    "    print(r)\n",
    "    teams = teams.append(pd.read_json(r.text, lines=True, orient='columns'))\n",
    "    print('Getting data for team {}.'.format(team), flush=True)\n",
    "    time.sleep(1)\n",
    "results = pro_results.merge(teams, how='left', left_on='team', right_on='team_id')\n",
    "results"
   ]
  },
  {
   "cell_type": "code",
   "execution_count": 9,
   "metadata": {},
   "outputs": [],
   "source": [
    "# results.to_pickle('data\\pro_results_expanded.pkl')\n",
    "results = pd.read_pickle('data\\pro_results_expanded.pkl')"
   ]
  },
  {
   "cell_type": "code",
   "execution_count": 7,
   "metadata": {},
   "outputs": [
    {
     "output_type": "execute_result",
     "data": {
      "text/plain": "     dire_losses  dire_win     duration  gold_advantage      kills  matches  \\\n45          35.0      40.0  2239.993056     4109.236111   6.659722    144.0   \n6            7.0      40.0  2044.564103    13078.910256  12.333333     78.0   \n97          21.0      29.0  2134.962264     2186.179245   2.132075    106.0   \n43          18.0      30.0  2245.677778     3580.300000   4.255556     90.0   \n64          32.0      42.0  2089.042105     2955.273684   1.526316     95.0   \n239         23.0      28.0  1443.391753     1035.360825   0.659794     97.0   \n20          12.0      27.0  2058.670886     6133.772152   5.822785     79.0   \n42          11.0      34.0  2083.681159     8271.594203   5.797101     69.0   \n1           12.0      14.0  2202.887640     1470.685393   3.202247     89.0   \n47          16.0      28.0  2092.986842     6293.171053   4.697368     76.0   \n\n     radiant_losses  radiant_wins       team  unique_heroes_banned_against  \\\n45             24.0          45.0  6187657.0                          75.0   \n6               4.0          27.0  1838315.0                          71.0   \n97             27.0          29.0  7484403.0                          76.0   \n43             17.0          25.0  7424172.0                          68.0   \n64              8.0          13.0  6409189.0                          74.0   \n239            21.0          25.0  7852100.0                          93.0   \n20             15.0          25.0       15.0                          70.0   \n42              6.0          18.0   350190.0                          69.0   \n1              26.0          37.0  6685591.0                          66.0   \n47              9.0          23.0  3586078.0                          69.0   \n\n     unique_heroes_played  xp_advantage  team_id  wins  losses  \\\n45                   93.0   6147.986111  6187657   456     321   \n6                    95.0  16073.782051  1838315   842     388   \n97                   94.0   3035.792453  7484403   120     121   \n43                   91.0   3573.855556  7424172    89      74   \n64                   75.0    965.305263  6409189   167     132   \n239                  92.0   1560.907216  7852100    82      74   \n20                   90.0   7345.151899       15  1212     787   \n42                   81.0   8713.434783   350190  1003     708   \n1                    88.0   5037.449438  6685591   204     127   \n47                   82.0   8180.486842  3586078   285     228   \n\n                 name  patch_wins  patch_win_rate  win_rate  \n45       Neon Esports        85.0        0.590278  0.586873  \n6         Team Secret        67.0        0.858974  0.684553  \n97              Ocean        58.0        0.547170  0.497925  \n43                 T1        55.0        0.611111  0.546012  \n64   Team Empire Hope        55.0        0.578947  0.558528  \n239    TEAM LIGHTNING        53.0        0.546392  0.525641  \n20            PSG.LGD        52.0        0.658228  0.606303  \n42             Fnatic        52.0        0.753623  0.586207  \n1            ViKin.gg        51.0        0.573034  0.616314  \n47           Geek Fam        51.0        0.671053  0.555556  ",
      "text/html": "<div>\n<style scoped>\n    .dataframe tbody tr th:only-of-type {\n        vertical-align: middle;\n    }\n\n    .dataframe tbody tr th {\n        vertical-align: top;\n    }\n\n    .dataframe thead th {\n        text-align: right;\n    }\n</style>\n<table border=\"1\" class=\"dataframe\">\n  <thead>\n    <tr style=\"text-align: right;\">\n      <th></th>\n      <th>dire_losses</th>\n      <th>dire_win</th>\n      <th>duration</th>\n      <th>gold_advantage</th>\n      <th>kills</th>\n      <th>matches</th>\n      <th>radiant_losses</th>\n      <th>radiant_wins</th>\n      <th>team</th>\n      <th>unique_heroes_banned_against</th>\n      <th>unique_heroes_played</th>\n      <th>xp_advantage</th>\n      <th>team_id</th>\n      <th>wins</th>\n      <th>losses</th>\n      <th>name</th>\n      <th>patch_wins</th>\n      <th>patch_win_rate</th>\n      <th>win_rate</th>\n    </tr>\n  </thead>\n  <tbody>\n    <tr>\n      <th>45</th>\n      <td>35.0</td>\n      <td>40.0</td>\n      <td>2239.993056</td>\n      <td>4109.236111</td>\n      <td>6.659722</td>\n      <td>144.0</td>\n      <td>24.0</td>\n      <td>45.0</td>\n      <td>6187657.0</td>\n      <td>75.0</td>\n      <td>93.0</td>\n      <td>6147.986111</td>\n      <td>6187657</td>\n      <td>456</td>\n      <td>321</td>\n      <td>Neon Esports</td>\n      <td>85.0</td>\n      <td>0.590278</td>\n      <td>0.586873</td>\n    </tr>\n    <tr>\n      <th>6</th>\n      <td>7.0</td>\n      <td>40.0</td>\n      <td>2044.564103</td>\n      <td>13078.910256</td>\n      <td>12.333333</td>\n      <td>78.0</td>\n      <td>4.0</td>\n      <td>27.0</td>\n      <td>1838315.0</td>\n      <td>71.0</td>\n      <td>95.0</td>\n      <td>16073.782051</td>\n      <td>1838315</td>\n      <td>842</td>\n      <td>388</td>\n      <td>Team Secret</td>\n      <td>67.0</td>\n      <td>0.858974</td>\n      <td>0.684553</td>\n    </tr>\n    <tr>\n      <th>97</th>\n      <td>21.0</td>\n      <td>29.0</td>\n      <td>2134.962264</td>\n      <td>2186.179245</td>\n      <td>2.132075</td>\n      <td>106.0</td>\n      <td>27.0</td>\n      <td>29.0</td>\n      <td>7484403.0</td>\n      <td>76.0</td>\n      <td>94.0</td>\n      <td>3035.792453</td>\n      <td>7484403</td>\n      <td>120</td>\n      <td>121</td>\n      <td>Ocean</td>\n      <td>58.0</td>\n      <td>0.547170</td>\n      <td>0.497925</td>\n    </tr>\n    <tr>\n      <th>43</th>\n      <td>18.0</td>\n      <td>30.0</td>\n      <td>2245.677778</td>\n      <td>3580.300000</td>\n      <td>4.255556</td>\n      <td>90.0</td>\n      <td>17.0</td>\n      <td>25.0</td>\n      <td>7424172.0</td>\n      <td>68.0</td>\n      <td>91.0</td>\n      <td>3573.855556</td>\n      <td>7424172</td>\n      <td>89</td>\n      <td>74</td>\n      <td>T1</td>\n      <td>55.0</td>\n      <td>0.611111</td>\n      <td>0.546012</td>\n    </tr>\n    <tr>\n      <th>64</th>\n      <td>32.0</td>\n      <td>42.0</td>\n      <td>2089.042105</td>\n      <td>2955.273684</td>\n      <td>1.526316</td>\n      <td>95.0</td>\n      <td>8.0</td>\n      <td>13.0</td>\n      <td>6409189.0</td>\n      <td>74.0</td>\n      <td>75.0</td>\n      <td>965.305263</td>\n      <td>6409189</td>\n      <td>167</td>\n      <td>132</td>\n      <td>Team Empire Hope</td>\n      <td>55.0</td>\n      <td>0.578947</td>\n      <td>0.558528</td>\n    </tr>\n    <tr>\n      <th>239</th>\n      <td>23.0</td>\n      <td>28.0</td>\n      <td>1443.391753</td>\n      <td>1035.360825</td>\n      <td>0.659794</td>\n      <td>97.0</td>\n      <td>21.0</td>\n      <td>25.0</td>\n      <td>7852100.0</td>\n      <td>93.0</td>\n      <td>92.0</td>\n      <td>1560.907216</td>\n      <td>7852100</td>\n      <td>82</td>\n      <td>74</td>\n      <td>TEAM LIGHTNING</td>\n      <td>53.0</td>\n      <td>0.546392</td>\n      <td>0.525641</td>\n    </tr>\n    <tr>\n      <th>20</th>\n      <td>12.0</td>\n      <td>27.0</td>\n      <td>2058.670886</td>\n      <td>6133.772152</td>\n      <td>5.822785</td>\n      <td>79.0</td>\n      <td>15.0</td>\n      <td>25.0</td>\n      <td>15.0</td>\n      <td>70.0</td>\n      <td>90.0</td>\n      <td>7345.151899</td>\n      <td>15</td>\n      <td>1212</td>\n      <td>787</td>\n      <td>PSG.LGD</td>\n      <td>52.0</td>\n      <td>0.658228</td>\n      <td>0.606303</td>\n    </tr>\n    <tr>\n      <th>42</th>\n      <td>11.0</td>\n      <td>34.0</td>\n      <td>2083.681159</td>\n      <td>8271.594203</td>\n      <td>5.797101</td>\n      <td>69.0</td>\n      <td>6.0</td>\n      <td>18.0</td>\n      <td>350190.0</td>\n      <td>69.0</td>\n      <td>81.0</td>\n      <td>8713.434783</td>\n      <td>350190</td>\n      <td>1003</td>\n      <td>708</td>\n      <td>Fnatic</td>\n      <td>52.0</td>\n      <td>0.753623</td>\n      <td>0.586207</td>\n    </tr>\n    <tr>\n      <th>1</th>\n      <td>12.0</td>\n      <td>14.0</td>\n      <td>2202.887640</td>\n      <td>1470.685393</td>\n      <td>3.202247</td>\n      <td>89.0</td>\n      <td>26.0</td>\n      <td>37.0</td>\n      <td>6685591.0</td>\n      <td>66.0</td>\n      <td>88.0</td>\n      <td>5037.449438</td>\n      <td>6685591</td>\n      <td>204</td>\n      <td>127</td>\n      <td>ViKin.gg</td>\n      <td>51.0</td>\n      <td>0.573034</td>\n      <td>0.616314</td>\n    </tr>\n    <tr>\n      <th>47</th>\n      <td>16.0</td>\n      <td>28.0</td>\n      <td>2092.986842</td>\n      <td>6293.171053</td>\n      <td>4.697368</td>\n      <td>76.0</td>\n      <td>9.0</td>\n      <td>23.0</td>\n      <td>3586078.0</td>\n      <td>69.0</td>\n      <td>82.0</td>\n      <td>8180.486842</td>\n      <td>3586078</td>\n      <td>285</td>\n      <td>228</td>\n      <td>Geek Fam</td>\n      <td>51.0</td>\n      <td>0.671053</td>\n      <td>0.555556</td>\n    </tr>\n  </tbody>\n</table>\n</div>"
     },
     "metadata": {},
     "execution_count": 7
    }
   ],
   "source": [
    "results['patch_wins'] = results['radiant_wins'] + results['dire_win']\n",
    "results['patch_win_rate'] = results['patch_wins']/results['matches']\n",
    "results.nlargest(n=10, columns='patch_wins')"
   ]
  },
  {
   "cell_type": "code",
   "execution_count": 7,
   "metadata": {},
   "outputs": [
    {
     "output_type": "execute_result",
     "data": {
      "text/plain": "dire_losses                     0\ndire_win                        0\nduration                        0\ngold_advantage                  0\nkills                           0\nmatches                         0\nradiant_losses                  0\nradiant_wins                    0\nteam                            0\nunique_heroes_banned_against    0\nunique_heroes_played            0\nxp_advantage                    0\nteam_id                         0\nwins                            0\nlosses                          0\nname                            0\npatch_wins                      0\npatch_win_rate                  0\ndtype: int64"
     },
     "metadata": {},
     "execution_count": 7
    }
   ],
   "source": [
    "results = results.drop(columns=['last_match_time', 'tag', 'logo_url', 'rating'])\n",
    "results.isna().sum()"
   ]
  },
  {
   "cell_type": "code",
   "execution_count": 10,
   "metadata": {},
   "outputs": [
    {
     "output_type": "execute_result",
     "data": {
      "text/plain": "    dire_losses  dire_win     duration  gold_advantage      kills  matches  \\\n14         17.0      24.0  2057.012500     2863.125000   1.850000     80.0   \n20         12.0      27.0  2058.670886     6133.772152   5.822785     79.0   \n16          6.0      10.0  2055.969231     2810.323077   3.169231     65.0   \n72         10.0      11.0  2287.948718     3800.769231   3.230769     39.0   \n22         27.0      29.0  2248.788889     2296.755556   0.777778     90.0   \n8          17.0      17.0  2170.104478    -1841.955224  -2.164179     67.0   \n42         11.0      34.0  2083.681159     8271.594203   5.797101     69.0   \n2          17.0      25.0  2264.843373     2333.795181   6.216867     83.0   \n6           7.0      40.0  2044.564103    13078.910256  12.333333     78.0   \n18          9.0      15.0  2251.571429      955.125000  -0.982143     56.0   \n\n    radiant_losses  radiant_wins       team  unique_heroes_banned_against  \\\n14            17.0          22.0  1883502.0                          63.0   \n20            15.0          25.0       15.0                          70.0   \n16            20.0          29.0   726228.0                          64.0   \n72             8.0          10.0       39.0                          50.0   \n22            13.0          21.0        5.0                          73.0   \n8             16.0          17.0   111474.0                          65.0   \n42             6.0          18.0   350190.0                          69.0   \n2             18.0          23.0     2163.0                          74.0   \n6              4.0          27.0  1838315.0                          71.0   \n18            17.0          15.0        4.0                          65.0   \n\n    unique_heroes_played  xp_advantage  team_id  wins  losses  \\\n14                  89.0   1125.525000  1883502  1244     943   \n20                  90.0   7345.151899       15  1212     787   \n16                  76.0   3449.646154   726228  1150     758   \n72                  67.0   4040.641026       39  1119     679   \n22                  88.0   4943.188889        5  1111     758   \n8                   89.0  -2535.388060   111474  1040     783   \n42                  81.0   8713.434783   350190  1003     708   \n2                   92.0   8657.590361     2163   938     609   \n6                   95.0  16073.782051  1838315   842     388   \n18                  85.0   -377.321429        4   715     573   \n\n               name  patch_wins  patch_win_rate  win_rate  \n14       Virtus.pro        46.0        0.575000  0.568816  \n20          PSG.LGD        52.0        0.658228  0.606303  \n16      Vici Gaming        39.0        0.600000  0.602725  \n72    Evil Geniuses        21.0        0.538462  0.622358  \n22  INVICTUS GAMING        50.0        0.555556  0.594436  \n8          Alliance        34.0        0.507463  0.570488  \n42           Fnatic        52.0        0.753623  0.586207  \n2       Team Liquid        48.0        0.578313  0.606335  \n6       Team Secret        67.0        0.858974  0.684553  \n18            EHOME        30.0        0.535714  0.555124  ",
      "text/html": "<div>\n<style scoped>\n    .dataframe tbody tr th:only-of-type {\n        vertical-align: middle;\n    }\n\n    .dataframe tbody tr th {\n        vertical-align: top;\n    }\n\n    .dataframe thead th {\n        text-align: right;\n    }\n</style>\n<table border=\"1\" class=\"dataframe\">\n  <thead>\n    <tr style=\"text-align: right;\">\n      <th></th>\n      <th>dire_losses</th>\n      <th>dire_win</th>\n      <th>duration</th>\n      <th>gold_advantage</th>\n      <th>kills</th>\n      <th>matches</th>\n      <th>radiant_losses</th>\n      <th>radiant_wins</th>\n      <th>team</th>\n      <th>unique_heroes_banned_against</th>\n      <th>unique_heroes_played</th>\n      <th>xp_advantage</th>\n      <th>team_id</th>\n      <th>wins</th>\n      <th>losses</th>\n      <th>name</th>\n      <th>patch_wins</th>\n      <th>patch_win_rate</th>\n      <th>win_rate</th>\n    </tr>\n  </thead>\n  <tbody>\n    <tr>\n      <th>14</th>\n      <td>17.0</td>\n      <td>24.0</td>\n      <td>2057.012500</td>\n      <td>2863.125000</td>\n      <td>1.850000</td>\n      <td>80.0</td>\n      <td>17.0</td>\n      <td>22.0</td>\n      <td>1883502.0</td>\n      <td>63.0</td>\n      <td>89.0</td>\n      <td>1125.525000</td>\n      <td>1883502</td>\n      <td>1244</td>\n      <td>943</td>\n      <td>Virtus.pro</td>\n      <td>46.0</td>\n      <td>0.575000</td>\n      <td>0.568816</td>\n    </tr>\n    <tr>\n      <th>20</th>\n      <td>12.0</td>\n      <td>27.0</td>\n      <td>2058.670886</td>\n      <td>6133.772152</td>\n      <td>5.822785</td>\n      <td>79.0</td>\n      <td>15.0</td>\n      <td>25.0</td>\n      <td>15.0</td>\n      <td>70.0</td>\n      <td>90.0</td>\n      <td>7345.151899</td>\n      <td>15</td>\n      <td>1212</td>\n      <td>787</td>\n      <td>PSG.LGD</td>\n      <td>52.0</td>\n      <td>0.658228</td>\n      <td>0.606303</td>\n    </tr>\n    <tr>\n      <th>16</th>\n      <td>6.0</td>\n      <td>10.0</td>\n      <td>2055.969231</td>\n      <td>2810.323077</td>\n      <td>3.169231</td>\n      <td>65.0</td>\n      <td>20.0</td>\n      <td>29.0</td>\n      <td>726228.0</td>\n      <td>64.0</td>\n      <td>76.0</td>\n      <td>3449.646154</td>\n      <td>726228</td>\n      <td>1150</td>\n      <td>758</td>\n      <td>Vici Gaming</td>\n      <td>39.0</td>\n      <td>0.600000</td>\n      <td>0.602725</td>\n    </tr>\n    <tr>\n      <th>72</th>\n      <td>10.0</td>\n      <td>11.0</td>\n      <td>2287.948718</td>\n      <td>3800.769231</td>\n      <td>3.230769</td>\n      <td>39.0</td>\n      <td>8.0</td>\n      <td>10.0</td>\n      <td>39.0</td>\n      <td>50.0</td>\n      <td>67.0</td>\n      <td>4040.641026</td>\n      <td>39</td>\n      <td>1119</td>\n      <td>679</td>\n      <td>Evil Geniuses</td>\n      <td>21.0</td>\n      <td>0.538462</td>\n      <td>0.622358</td>\n    </tr>\n    <tr>\n      <th>22</th>\n      <td>27.0</td>\n      <td>29.0</td>\n      <td>2248.788889</td>\n      <td>2296.755556</td>\n      <td>0.777778</td>\n      <td>90.0</td>\n      <td>13.0</td>\n      <td>21.0</td>\n      <td>5.0</td>\n      <td>73.0</td>\n      <td>88.0</td>\n      <td>4943.188889</td>\n      <td>5</td>\n      <td>1111</td>\n      <td>758</td>\n      <td>INVICTUS GAMING</td>\n      <td>50.0</td>\n      <td>0.555556</td>\n      <td>0.594436</td>\n    </tr>\n    <tr>\n      <th>8</th>\n      <td>17.0</td>\n      <td>17.0</td>\n      <td>2170.104478</td>\n      <td>-1841.955224</td>\n      <td>-2.164179</td>\n      <td>67.0</td>\n      <td>16.0</td>\n      <td>17.0</td>\n      <td>111474.0</td>\n      <td>65.0</td>\n      <td>89.0</td>\n      <td>-2535.388060</td>\n      <td>111474</td>\n      <td>1040</td>\n      <td>783</td>\n      <td>Alliance</td>\n      <td>34.0</td>\n      <td>0.507463</td>\n      <td>0.570488</td>\n    </tr>\n    <tr>\n      <th>42</th>\n      <td>11.0</td>\n      <td>34.0</td>\n      <td>2083.681159</td>\n      <td>8271.594203</td>\n      <td>5.797101</td>\n      <td>69.0</td>\n      <td>6.0</td>\n      <td>18.0</td>\n      <td>350190.0</td>\n      <td>69.0</td>\n      <td>81.0</td>\n      <td>8713.434783</td>\n      <td>350190</td>\n      <td>1003</td>\n      <td>708</td>\n      <td>Fnatic</td>\n      <td>52.0</td>\n      <td>0.753623</td>\n      <td>0.586207</td>\n    </tr>\n    <tr>\n      <th>2</th>\n      <td>17.0</td>\n      <td>25.0</td>\n      <td>2264.843373</td>\n      <td>2333.795181</td>\n      <td>6.216867</td>\n      <td>83.0</td>\n      <td>18.0</td>\n      <td>23.0</td>\n      <td>2163.0</td>\n      <td>74.0</td>\n      <td>92.0</td>\n      <td>8657.590361</td>\n      <td>2163</td>\n      <td>938</td>\n      <td>609</td>\n      <td>Team Liquid</td>\n      <td>48.0</td>\n      <td>0.578313</td>\n      <td>0.606335</td>\n    </tr>\n    <tr>\n      <th>6</th>\n      <td>7.0</td>\n      <td>40.0</td>\n      <td>2044.564103</td>\n      <td>13078.910256</td>\n      <td>12.333333</td>\n      <td>78.0</td>\n      <td>4.0</td>\n      <td>27.0</td>\n      <td>1838315.0</td>\n      <td>71.0</td>\n      <td>95.0</td>\n      <td>16073.782051</td>\n      <td>1838315</td>\n      <td>842</td>\n      <td>388</td>\n      <td>Team Secret</td>\n      <td>67.0</td>\n      <td>0.858974</td>\n      <td>0.684553</td>\n    </tr>\n    <tr>\n      <th>18</th>\n      <td>9.0</td>\n      <td>15.0</td>\n      <td>2251.571429</td>\n      <td>955.125000</td>\n      <td>-0.982143</td>\n      <td>56.0</td>\n      <td>17.0</td>\n      <td>15.0</td>\n      <td>4.0</td>\n      <td>65.0</td>\n      <td>85.0</td>\n      <td>-377.321429</td>\n      <td>4</td>\n      <td>715</td>\n      <td>573</td>\n      <td>EHOME</td>\n      <td>30.0</td>\n      <td>0.535714</td>\n      <td>0.555124</td>\n    </tr>\n  </tbody>\n</table>\n</div>"
     },
     "metadata": {},
     "execution_count": 10
    }
   ],
   "source": [
    "results.nlargest(n=10, columns='wins')"
   ]
  },
  {
   "cell_type": "code",
   "execution_count": 38,
   "metadata": {},
   "outputs": [
    {
     "output_type": "execute_result",
     "data": {
      "text/plain": "    dire_losses  dire_win     duration  gold_advantage      kills  matches  \\\n65          4.0      11.0  2265.282051    11490.769231  12.666667     39.0   \n9           6.0      11.0  2107.716981     5035.660377   4.132075     53.0   \n6           7.0      40.0  2044.564103    13078.910256  12.333333     78.0   \n71         10.0      19.0  2047.754098     2578.901639   5.508197     61.0   \n3          21.0      18.0  1970.220588    -1795.161765  -3.941176     68.0   \n99          3.0       5.0  2450.384615     3168.358974   5.205128     39.0   \n72         10.0      11.0  2287.948718     3800.769231   3.230769     39.0   \n1          12.0      14.0  2202.887640     1470.685393   3.202247     89.0   \n67         13.0      10.0  2096.736842     -711.964912  -2.105263     57.0   \n2          17.0      25.0  2264.843373     2333.795181   6.216867     83.0   \n\n    radiant_losses  radiant_wins       team  unique_heroes_banned_against  \\\n65             6.0          18.0  7390454.0                          52.0   \n9             15.0          21.0  7819701.0                          57.0   \n6              4.0          27.0  1838315.0                          71.0   \n71            15.0          17.0  6382242.0                          63.0   \n3             14.0          15.0  2586976.0                          74.0   \n99            15.0          16.0  7204148.0                          53.0   \n72             8.0          10.0       39.0                          50.0   \n1             26.0          37.0  6685591.0                          66.0   \n67            13.0          21.0  7819028.0                          62.0   \n2             18.0          23.0     2163.0                          74.0   \n\n    unique_heroes_played  xp_advantage  team_id  wins  losses  \\\n65                  64.0  16346.589744  7390454    63      27   \n9                   66.0   8510.433962  7819701    64      29   \n6                   95.0  16073.782051  1838315   842     388   \n71                  83.0   3645.163934  6382242   145      72   \n3                   88.0  -3224.500000  2586976   604     352   \n99                  70.0   6442.128205  7204148    33      20   \n72                  67.0   4040.641026       39  1119     679   \n1                   88.0   5037.449438  6685591   204     127   \n67                  79.0   -237.000000  7819028    61      38   \n2                   92.0   8657.590361     2163   938     609   \n\n                  name  patch_wins  patch_win_rate  win_rate  \n65         Quincy Crew        29.0        0.743590  0.700000  \n9           VP.Prodigy        32.0        0.603774  0.688172  \n6          Team Secret        67.0        0.858974  0.684553  \n71    Thunder Predator        36.0        0.590164  0.668203  \n3                   OG        33.0        0.485294  0.631799  \n99  Flash Point Gaming        21.0        0.538462  0.622642  \n72       Evil Geniuses        21.0        0.538462  0.622358  \n1             ViKin.gg        51.0        0.573034  0.616314  \n67           4 Zoomers        31.0        0.543860  0.616162  \n2          Team Liquid        48.0        0.578313  0.606335  ",
      "text/html": "<div>\n<style scoped>\n    .dataframe tbody tr th:only-of-type {\n        vertical-align: middle;\n    }\n\n    .dataframe tbody tr th {\n        vertical-align: top;\n    }\n\n    .dataframe thead th {\n        text-align: right;\n    }\n</style>\n<table border=\"1\" class=\"dataframe\">\n  <thead>\n    <tr style=\"text-align: right;\">\n      <th></th>\n      <th>dire_losses</th>\n      <th>dire_win</th>\n      <th>duration</th>\n      <th>gold_advantage</th>\n      <th>kills</th>\n      <th>matches</th>\n      <th>radiant_losses</th>\n      <th>radiant_wins</th>\n      <th>team</th>\n      <th>unique_heroes_banned_against</th>\n      <th>unique_heroes_played</th>\n      <th>xp_advantage</th>\n      <th>team_id</th>\n      <th>wins</th>\n      <th>losses</th>\n      <th>name</th>\n      <th>patch_wins</th>\n      <th>patch_win_rate</th>\n      <th>win_rate</th>\n    </tr>\n  </thead>\n  <tbody>\n    <tr>\n      <th>65</th>\n      <td>4.0</td>\n      <td>11.0</td>\n      <td>2265.282051</td>\n      <td>11490.769231</td>\n      <td>12.666667</td>\n      <td>39.0</td>\n      <td>6.0</td>\n      <td>18.0</td>\n      <td>7390454.0</td>\n      <td>52.0</td>\n      <td>64.0</td>\n      <td>16346.589744</td>\n      <td>7390454</td>\n      <td>63</td>\n      <td>27</td>\n      <td>Quincy Crew</td>\n      <td>29.0</td>\n      <td>0.743590</td>\n      <td>0.700000</td>\n    </tr>\n    <tr>\n      <th>9</th>\n      <td>6.0</td>\n      <td>11.0</td>\n      <td>2107.716981</td>\n      <td>5035.660377</td>\n      <td>4.132075</td>\n      <td>53.0</td>\n      <td>15.0</td>\n      <td>21.0</td>\n      <td>7819701.0</td>\n      <td>57.0</td>\n      <td>66.0</td>\n      <td>8510.433962</td>\n      <td>7819701</td>\n      <td>64</td>\n      <td>29</td>\n      <td>VP.Prodigy</td>\n      <td>32.0</td>\n      <td>0.603774</td>\n      <td>0.688172</td>\n    </tr>\n    <tr>\n      <th>6</th>\n      <td>7.0</td>\n      <td>40.0</td>\n      <td>2044.564103</td>\n      <td>13078.910256</td>\n      <td>12.333333</td>\n      <td>78.0</td>\n      <td>4.0</td>\n      <td>27.0</td>\n      <td>1838315.0</td>\n      <td>71.0</td>\n      <td>95.0</td>\n      <td>16073.782051</td>\n      <td>1838315</td>\n      <td>842</td>\n      <td>388</td>\n      <td>Team Secret</td>\n      <td>67.0</td>\n      <td>0.858974</td>\n      <td>0.684553</td>\n    </tr>\n    <tr>\n      <th>71</th>\n      <td>10.0</td>\n      <td>19.0</td>\n      <td>2047.754098</td>\n      <td>2578.901639</td>\n      <td>5.508197</td>\n      <td>61.0</td>\n      <td>15.0</td>\n      <td>17.0</td>\n      <td>6382242.0</td>\n      <td>63.0</td>\n      <td>83.0</td>\n      <td>3645.163934</td>\n      <td>6382242</td>\n      <td>145</td>\n      <td>72</td>\n      <td>Thunder Predator</td>\n      <td>36.0</td>\n      <td>0.590164</td>\n      <td>0.668203</td>\n    </tr>\n    <tr>\n      <th>3</th>\n      <td>21.0</td>\n      <td>18.0</td>\n      <td>1970.220588</td>\n      <td>-1795.161765</td>\n      <td>-3.941176</td>\n      <td>68.0</td>\n      <td>14.0</td>\n      <td>15.0</td>\n      <td>2586976.0</td>\n      <td>74.0</td>\n      <td>88.0</td>\n      <td>-3224.500000</td>\n      <td>2586976</td>\n      <td>604</td>\n      <td>352</td>\n      <td>OG</td>\n      <td>33.0</td>\n      <td>0.485294</td>\n      <td>0.631799</td>\n    </tr>\n    <tr>\n      <th>99</th>\n      <td>3.0</td>\n      <td>5.0</td>\n      <td>2450.384615</td>\n      <td>3168.358974</td>\n      <td>5.205128</td>\n      <td>39.0</td>\n      <td>15.0</td>\n      <td>16.0</td>\n      <td>7204148.0</td>\n      <td>53.0</td>\n      <td>70.0</td>\n      <td>6442.128205</td>\n      <td>7204148</td>\n      <td>33</td>\n      <td>20</td>\n      <td>Flash Point Gaming</td>\n      <td>21.0</td>\n      <td>0.538462</td>\n      <td>0.622642</td>\n    </tr>\n    <tr>\n      <th>72</th>\n      <td>10.0</td>\n      <td>11.0</td>\n      <td>2287.948718</td>\n      <td>3800.769231</td>\n      <td>3.230769</td>\n      <td>39.0</td>\n      <td>8.0</td>\n      <td>10.0</td>\n      <td>39.0</td>\n      <td>50.0</td>\n      <td>67.0</td>\n      <td>4040.641026</td>\n      <td>39</td>\n      <td>1119</td>\n      <td>679</td>\n      <td>Evil Geniuses</td>\n      <td>21.0</td>\n      <td>0.538462</td>\n      <td>0.622358</td>\n    </tr>\n    <tr>\n      <th>1</th>\n      <td>12.0</td>\n      <td>14.0</td>\n      <td>2202.887640</td>\n      <td>1470.685393</td>\n      <td>3.202247</td>\n      <td>89.0</td>\n      <td>26.0</td>\n      <td>37.0</td>\n      <td>6685591.0</td>\n      <td>66.0</td>\n      <td>88.0</td>\n      <td>5037.449438</td>\n      <td>6685591</td>\n      <td>204</td>\n      <td>127</td>\n      <td>ViKin.gg</td>\n      <td>51.0</td>\n      <td>0.573034</td>\n      <td>0.616314</td>\n    </tr>\n    <tr>\n      <th>67</th>\n      <td>13.0</td>\n      <td>10.0</td>\n      <td>2096.736842</td>\n      <td>-711.964912</td>\n      <td>-2.105263</td>\n      <td>57.0</td>\n      <td>13.0</td>\n      <td>21.0</td>\n      <td>7819028.0</td>\n      <td>62.0</td>\n      <td>79.0</td>\n      <td>-237.000000</td>\n      <td>7819028</td>\n      <td>61</td>\n      <td>38</td>\n      <td>4 Zoomers</td>\n      <td>31.0</td>\n      <td>0.543860</td>\n      <td>0.616162</td>\n    </tr>\n    <tr>\n      <th>2</th>\n      <td>17.0</td>\n      <td>25.0</td>\n      <td>2264.843373</td>\n      <td>2333.795181</td>\n      <td>6.216867</td>\n      <td>83.0</td>\n      <td>18.0</td>\n      <td>23.0</td>\n      <td>2163.0</td>\n      <td>74.0</td>\n      <td>92.0</td>\n      <td>8657.590361</td>\n      <td>2163</td>\n      <td>938</td>\n      <td>609</td>\n      <td>Team Liquid</td>\n      <td>48.0</td>\n      <td>0.578313</td>\n      <td>0.606335</td>\n    </tr>\n  </tbody>\n</table>\n</div>"
     },
     "metadata": {},
     "execution_count": 38
    }
   ],
   "source": [
    "results['win_rate'] = results['wins']/(results['wins'] + results['losses'])\n",
    "results.nlargest(n=10, columns='win_rate')"
   ]
  },
  {
   "cell_type": "code",
   "execution_count": 39,
   "metadata": {},
   "outputs": [
    {
     "output_type": "execute_result",
     "data": {
      "text/plain": "     dire_losses  dire_win     duration  gold_advantage      kills  matches  \\\n45          35.0      40.0  2239.993056     4109.236111   6.659722    144.0   \n6            7.0      40.0  2044.564103    13078.910256  12.333333     78.0   \n97          21.0      29.0  2134.962264     2186.179245   2.132075    106.0   \n43          18.0      30.0  2245.677778     3580.300000   4.255556     90.0   \n64          32.0      42.0  2089.042105     2955.273684   1.526316     95.0   \n239         23.0      28.0  1443.391753     1035.360825   0.659794     97.0   \n20          12.0      27.0  2058.670886     6133.772152   5.822785     79.0   \n42          11.0      34.0  2083.681159     8271.594203   5.797101     69.0   \n1           12.0      14.0  2202.887640     1470.685393   3.202247     89.0   \n47          16.0      28.0  2092.986842     6293.171053   4.697368     76.0   \n\n     radiant_losses  radiant_wins       team  unique_heroes_banned_against  \\\n45             24.0          45.0  6187657.0                          75.0   \n6               4.0          27.0  1838315.0                          71.0   \n97             27.0          29.0  7484403.0                          76.0   \n43             17.0          25.0  7424172.0                          68.0   \n64              8.0          13.0  6409189.0                          74.0   \n239            21.0          25.0  7852100.0                          93.0   \n20             15.0          25.0       15.0                          70.0   \n42              6.0          18.0   350190.0                          69.0   \n1              26.0          37.0  6685591.0                          66.0   \n47              9.0          23.0  3586078.0                          69.0   \n\n     unique_heroes_played  xp_advantage  team_id  wins  losses  \\\n45                   93.0   6147.986111  6187657   456     321   \n6                    95.0  16073.782051  1838315   842     388   \n97                   94.0   3035.792453  7484403   120     121   \n43                   91.0   3573.855556  7424172    89      74   \n64                   75.0    965.305263  6409189   167     132   \n239                  92.0   1560.907216  7852100    82      74   \n20                   90.0   7345.151899       15  1212     787   \n42                   81.0   8713.434783   350190  1003     708   \n1                    88.0   5037.449438  6685591   204     127   \n47                   82.0   8180.486842  3586078   285     228   \n\n                 name  patch_wins  patch_win_rate  win_rate  \n45       Neon Esports        85.0        0.590278  0.586873  \n6         Team Secret        67.0        0.858974  0.684553  \n97              Ocean        58.0        0.547170  0.497925  \n43                 T1        55.0        0.611111  0.546012  \n64   Team Empire Hope        55.0        0.578947  0.558528  \n239    TEAM LIGHTNING        53.0        0.546392  0.525641  \n20            PSG.LGD        52.0        0.658228  0.606303  \n42             Fnatic        52.0        0.753623  0.586207  \n1            ViKin.gg        51.0        0.573034  0.616314  \n47           Geek Fam        51.0        0.671053  0.555556  ",
      "text/html": "<div>\n<style scoped>\n    .dataframe tbody tr th:only-of-type {\n        vertical-align: middle;\n    }\n\n    .dataframe tbody tr th {\n        vertical-align: top;\n    }\n\n    .dataframe thead th {\n        text-align: right;\n    }\n</style>\n<table border=\"1\" class=\"dataframe\">\n  <thead>\n    <tr style=\"text-align: right;\">\n      <th></th>\n      <th>dire_losses</th>\n      <th>dire_win</th>\n      <th>duration</th>\n      <th>gold_advantage</th>\n      <th>kills</th>\n      <th>matches</th>\n      <th>radiant_losses</th>\n      <th>radiant_wins</th>\n      <th>team</th>\n      <th>unique_heroes_banned_against</th>\n      <th>unique_heroes_played</th>\n      <th>xp_advantage</th>\n      <th>team_id</th>\n      <th>wins</th>\n      <th>losses</th>\n      <th>name</th>\n      <th>patch_wins</th>\n      <th>patch_win_rate</th>\n      <th>win_rate</th>\n    </tr>\n  </thead>\n  <tbody>\n    <tr>\n      <th>45</th>\n      <td>35.0</td>\n      <td>40.0</td>\n      <td>2239.993056</td>\n      <td>4109.236111</td>\n      <td>6.659722</td>\n      <td>144.0</td>\n      <td>24.0</td>\n      <td>45.0</td>\n      <td>6187657.0</td>\n      <td>75.0</td>\n      <td>93.0</td>\n      <td>6147.986111</td>\n      <td>6187657</td>\n      <td>456</td>\n      <td>321</td>\n      <td>Neon Esports</td>\n      <td>85.0</td>\n      <td>0.590278</td>\n      <td>0.586873</td>\n    </tr>\n    <tr>\n      <th>6</th>\n      <td>7.0</td>\n      <td>40.0</td>\n      <td>2044.564103</td>\n      <td>13078.910256</td>\n      <td>12.333333</td>\n      <td>78.0</td>\n      <td>4.0</td>\n      <td>27.0</td>\n      <td>1838315.0</td>\n      <td>71.0</td>\n      <td>95.0</td>\n      <td>16073.782051</td>\n      <td>1838315</td>\n      <td>842</td>\n      <td>388</td>\n      <td>Team Secret</td>\n      <td>67.0</td>\n      <td>0.858974</td>\n      <td>0.684553</td>\n    </tr>\n    <tr>\n      <th>97</th>\n      <td>21.0</td>\n      <td>29.0</td>\n      <td>2134.962264</td>\n      <td>2186.179245</td>\n      <td>2.132075</td>\n      <td>106.0</td>\n      <td>27.0</td>\n      <td>29.0</td>\n      <td>7484403.0</td>\n      <td>76.0</td>\n      <td>94.0</td>\n      <td>3035.792453</td>\n      <td>7484403</td>\n      <td>120</td>\n      <td>121</td>\n      <td>Ocean</td>\n      <td>58.0</td>\n      <td>0.547170</td>\n      <td>0.497925</td>\n    </tr>\n    <tr>\n      <th>43</th>\n      <td>18.0</td>\n      <td>30.0</td>\n      <td>2245.677778</td>\n      <td>3580.300000</td>\n      <td>4.255556</td>\n      <td>90.0</td>\n      <td>17.0</td>\n      <td>25.0</td>\n      <td>7424172.0</td>\n      <td>68.0</td>\n      <td>91.0</td>\n      <td>3573.855556</td>\n      <td>7424172</td>\n      <td>89</td>\n      <td>74</td>\n      <td>T1</td>\n      <td>55.0</td>\n      <td>0.611111</td>\n      <td>0.546012</td>\n    </tr>\n    <tr>\n      <th>64</th>\n      <td>32.0</td>\n      <td>42.0</td>\n      <td>2089.042105</td>\n      <td>2955.273684</td>\n      <td>1.526316</td>\n      <td>95.0</td>\n      <td>8.0</td>\n      <td>13.0</td>\n      <td>6409189.0</td>\n      <td>74.0</td>\n      <td>75.0</td>\n      <td>965.305263</td>\n      <td>6409189</td>\n      <td>167</td>\n      <td>132</td>\n      <td>Team Empire Hope</td>\n      <td>55.0</td>\n      <td>0.578947</td>\n      <td>0.558528</td>\n    </tr>\n    <tr>\n      <th>239</th>\n      <td>23.0</td>\n      <td>28.0</td>\n      <td>1443.391753</td>\n      <td>1035.360825</td>\n      <td>0.659794</td>\n      <td>97.0</td>\n      <td>21.0</td>\n      <td>25.0</td>\n      <td>7852100.0</td>\n      <td>93.0</td>\n      <td>92.0</td>\n      <td>1560.907216</td>\n      <td>7852100</td>\n      <td>82</td>\n      <td>74</td>\n      <td>TEAM LIGHTNING</td>\n      <td>53.0</td>\n      <td>0.546392</td>\n      <td>0.525641</td>\n    </tr>\n    <tr>\n      <th>20</th>\n      <td>12.0</td>\n      <td>27.0</td>\n      <td>2058.670886</td>\n      <td>6133.772152</td>\n      <td>5.822785</td>\n      <td>79.0</td>\n      <td>15.0</td>\n      <td>25.0</td>\n      <td>15.0</td>\n      <td>70.0</td>\n      <td>90.0</td>\n      <td>7345.151899</td>\n      <td>15</td>\n      <td>1212</td>\n      <td>787</td>\n      <td>PSG.LGD</td>\n      <td>52.0</td>\n      <td>0.658228</td>\n      <td>0.606303</td>\n    </tr>\n    <tr>\n      <th>42</th>\n      <td>11.0</td>\n      <td>34.0</td>\n      <td>2083.681159</td>\n      <td>8271.594203</td>\n      <td>5.797101</td>\n      <td>69.0</td>\n      <td>6.0</td>\n      <td>18.0</td>\n      <td>350190.0</td>\n      <td>69.0</td>\n      <td>81.0</td>\n      <td>8713.434783</td>\n      <td>350190</td>\n      <td>1003</td>\n      <td>708</td>\n      <td>Fnatic</td>\n      <td>52.0</td>\n      <td>0.753623</td>\n      <td>0.586207</td>\n    </tr>\n    <tr>\n      <th>1</th>\n      <td>12.0</td>\n      <td>14.0</td>\n      <td>2202.887640</td>\n      <td>1470.685393</td>\n      <td>3.202247</td>\n      <td>89.0</td>\n      <td>26.0</td>\n      <td>37.0</td>\n      <td>6685591.0</td>\n      <td>66.0</td>\n      <td>88.0</td>\n      <td>5037.449438</td>\n      <td>6685591</td>\n      <td>204</td>\n      <td>127</td>\n      <td>ViKin.gg</td>\n      <td>51.0</td>\n      <td>0.573034</td>\n      <td>0.616314</td>\n    </tr>\n    <tr>\n      <th>47</th>\n      <td>16.0</td>\n      <td>28.0</td>\n      <td>2092.986842</td>\n      <td>6293.171053</td>\n      <td>4.697368</td>\n      <td>76.0</td>\n      <td>9.0</td>\n      <td>23.0</td>\n      <td>3586078.0</td>\n      <td>69.0</td>\n      <td>82.0</td>\n      <td>8180.486842</td>\n      <td>3586078</td>\n      <td>285</td>\n      <td>228</td>\n      <td>Geek Fam</td>\n      <td>51.0</td>\n      <td>0.671053</td>\n      <td>0.555556</td>\n    </tr>\n  </tbody>\n</table>\n</div>"
     },
     "metadata": {},
     "execution_count": 39
    }
   ],
   "source": [
    "results.nlargest(n=10, columns='patch_wins')"
   ]
  },
  {
   "cell_type": "code",
   "execution_count": 11,
   "metadata": {},
   "outputs": [
    {
     "output_type": "execute_result",
     "data": {
      "text/plain": "     dire_losses  dire_win     duration  gold_advantage      kills  matches  \\\n6            7.0      40.0  2044.564103    13078.910256  12.333333     78.0   \n42          11.0      34.0  2083.681159     8271.594203   5.797101     69.0   \n65           4.0      11.0  2265.282051    11490.769231  12.666667     39.0   \n29           4.0       5.0  1982.032258     3952.709677   6.419355     31.0   \n47          16.0      28.0  2092.986842     6293.171053   4.697368     76.0   \n20          12.0      27.0  2058.670886     6133.772152   5.822785     79.0   \n40           9.0      14.0  2136.288136     4097.050847   4.559322     59.0   \n170          5.0       7.0  2302.657143     6220.514286   3.714286     35.0   \n41           6.0      24.0  2071.770270     3192.067568   3.297297     74.0   \n88           8.0      15.0  2105.411765     5623.352941   6.558824     34.0   \n\n     radiant_losses  radiant_wins       team  unique_heroes_banned_against  \\\n6               4.0          27.0  1838315.0                          71.0   \n42              6.0          18.0   350190.0                          69.0   \n65              6.0          18.0  7390454.0                          52.0   \n29              6.0          16.0  7653600.0                          54.0   \n47              9.0          23.0  3586078.0                          69.0   \n20             15.0          25.0       15.0                          70.0   \n40             12.0          24.0  7555613.0                          66.0   \n170             8.0          15.0  7358634.0                          56.0   \n41             22.0          22.0  7732977.0                          77.0   \n88              5.0           6.0  2672298.0                          54.0   \n\n     unique_heroes_played  xp_advantage  team_id  wins  losses  \\\n6                    95.0  16073.782051  1838315   842     388   \n42                   81.0   8713.434783   350190  1003     708   \n65                   64.0  16346.589744  7390454    63      27   \n29                   68.0   6506.451613  7653600    65      68   \n47                   82.0   8180.486842  3586078   285     228   \n20                   90.0   7345.151899       15  1212     787   \n40                   84.0   3363.457627  7555613    89      74   \n170                  63.0   5830.971429  7358634    27      18   \n41                   85.0   5523.310811  7732977    90      64   \n88                   69.0   6065.970588  2672298   344     306   \n\n                    name  patch_wins  patch_win_rate  win_rate  \n6            Team Secret        67.0        0.858974  0.684553  \n42                Fnatic        52.0        0.753623  0.586207  \n65           Quincy Crew        29.0        0.743590  0.700000  \n29       Aggressive Mode        21.0        0.677419  0.488722  \n47              Geek Fam        51.0        0.671053  0.555556  \n20               PSG.LGD        52.0        0.658228  0.606303  \n40               OG.Seed        38.0        0.644068  0.546012  \n170  S A D B O Y S . A U        22.0        0.628571  0.600000  \n41          BOOM Esports        46.0        0.621622  0.584416  \n88       Infamous Gaming        21.0        0.617647  0.529231  ",
      "text/html": "<div>\n<style scoped>\n    .dataframe tbody tr th:only-of-type {\n        vertical-align: middle;\n    }\n\n    .dataframe tbody tr th {\n        vertical-align: top;\n    }\n\n    .dataframe thead th {\n        text-align: right;\n    }\n</style>\n<table border=\"1\" class=\"dataframe\">\n  <thead>\n    <tr style=\"text-align: right;\">\n      <th></th>\n      <th>dire_losses</th>\n      <th>dire_win</th>\n      <th>duration</th>\n      <th>gold_advantage</th>\n      <th>kills</th>\n      <th>matches</th>\n      <th>radiant_losses</th>\n      <th>radiant_wins</th>\n      <th>team</th>\n      <th>unique_heroes_banned_against</th>\n      <th>unique_heroes_played</th>\n      <th>xp_advantage</th>\n      <th>team_id</th>\n      <th>wins</th>\n      <th>losses</th>\n      <th>name</th>\n      <th>patch_wins</th>\n      <th>patch_win_rate</th>\n      <th>win_rate</th>\n    </tr>\n  </thead>\n  <tbody>\n    <tr>\n      <th>6</th>\n      <td>7.0</td>\n      <td>40.0</td>\n      <td>2044.564103</td>\n      <td>13078.910256</td>\n      <td>12.333333</td>\n      <td>78.0</td>\n      <td>4.0</td>\n      <td>27.0</td>\n      <td>1838315.0</td>\n      <td>71.0</td>\n      <td>95.0</td>\n      <td>16073.782051</td>\n      <td>1838315</td>\n      <td>842</td>\n      <td>388</td>\n      <td>Team Secret</td>\n      <td>67.0</td>\n      <td>0.858974</td>\n      <td>0.684553</td>\n    </tr>\n    <tr>\n      <th>42</th>\n      <td>11.0</td>\n      <td>34.0</td>\n      <td>2083.681159</td>\n      <td>8271.594203</td>\n      <td>5.797101</td>\n      <td>69.0</td>\n      <td>6.0</td>\n      <td>18.0</td>\n      <td>350190.0</td>\n      <td>69.0</td>\n      <td>81.0</td>\n      <td>8713.434783</td>\n      <td>350190</td>\n      <td>1003</td>\n      <td>708</td>\n      <td>Fnatic</td>\n      <td>52.0</td>\n      <td>0.753623</td>\n      <td>0.586207</td>\n    </tr>\n    <tr>\n      <th>65</th>\n      <td>4.0</td>\n      <td>11.0</td>\n      <td>2265.282051</td>\n      <td>11490.769231</td>\n      <td>12.666667</td>\n      <td>39.0</td>\n      <td>6.0</td>\n      <td>18.0</td>\n      <td>7390454.0</td>\n      <td>52.0</td>\n      <td>64.0</td>\n      <td>16346.589744</td>\n      <td>7390454</td>\n      <td>63</td>\n      <td>27</td>\n      <td>Quincy Crew</td>\n      <td>29.0</td>\n      <td>0.743590</td>\n      <td>0.700000</td>\n    </tr>\n    <tr>\n      <th>29</th>\n      <td>4.0</td>\n      <td>5.0</td>\n      <td>1982.032258</td>\n      <td>3952.709677</td>\n      <td>6.419355</td>\n      <td>31.0</td>\n      <td>6.0</td>\n      <td>16.0</td>\n      <td>7653600.0</td>\n      <td>54.0</td>\n      <td>68.0</td>\n      <td>6506.451613</td>\n      <td>7653600</td>\n      <td>65</td>\n      <td>68</td>\n      <td>Aggressive Mode</td>\n      <td>21.0</td>\n      <td>0.677419</td>\n      <td>0.488722</td>\n    </tr>\n    <tr>\n      <th>47</th>\n      <td>16.0</td>\n      <td>28.0</td>\n      <td>2092.986842</td>\n      <td>6293.171053</td>\n      <td>4.697368</td>\n      <td>76.0</td>\n      <td>9.0</td>\n      <td>23.0</td>\n      <td>3586078.0</td>\n      <td>69.0</td>\n      <td>82.0</td>\n      <td>8180.486842</td>\n      <td>3586078</td>\n      <td>285</td>\n      <td>228</td>\n      <td>Geek Fam</td>\n      <td>51.0</td>\n      <td>0.671053</td>\n      <td>0.555556</td>\n    </tr>\n    <tr>\n      <th>20</th>\n      <td>12.0</td>\n      <td>27.0</td>\n      <td>2058.670886</td>\n      <td>6133.772152</td>\n      <td>5.822785</td>\n      <td>79.0</td>\n      <td>15.0</td>\n      <td>25.0</td>\n      <td>15.0</td>\n      <td>70.0</td>\n      <td>90.0</td>\n      <td>7345.151899</td>\n      <td>15</td>\n      <td>1212</td>\n      <td>787</td>\n      <td>PSG.LGD</td>\n      <td>52.0</td>\n      <td>0.658228</td>\n      <td>0.606303</td>\n    </tr>\n    <tr>\n      <th>40</th>\n      <td>9.0</td>\n      <td>14.0</td>\n      <td>2136.288136</td>\n      <td>4097.050847</td>\n      <td>4.559322</td>\n      <td>59.0</td>\n      <td>12.0</td>\n      <td>24.0</td>\n      <td>7555613.0</td>\n      <td>66.0</td>\n      <td>84.0</td>\n      <td>3363.457627</td>\n      <td>7555613</td>\n      <td>89</td>\n      <td>74</td>\n      <td>OG.Seed</td>\n      <td>38.0</td>\n      <td>0.644068</td>\n      <td>0.546012</td>\n    </tr>\n    <tr>\n      <th>170</th>\n      <td>5.0</td>\n      <td>7.0</td>\n      <td>2302.657143</td>\n      <td>6220.514286</td>\n      <td>3.714286</td>\n      <td>35.0</td>\n      <td>8.0</td>\n      <td>15.0</td>\n      <td>7358634.0</td>\n      <td>56.0</td>\n      <td>63.0</td>\n      <td>5830.971429</td>\n      <td>7358634</td>\n      <td>27</td>\n      <td>18</td>\n      <td>S A D B O Y S . A U</td>\n      <td>22.0</td>\n      <td>0.628571</td>\n      <td>0.600000</td>\n    </tr>\n    <tr>\n      <th>41</th>\n      <td>6.0</td>\n      <td>24.0</td>\n      <td>2071.770270</td>\n      <td>3192.067568</td>\n      <td>3.297297</td>\n      <td>74.0</td>\n      <td>22.0</td>\n      <td>22.0</td>\n      <td>7732977.0</td>\n      <td>77.0</td>\n      <td>85.0</td>\n      <td>5523.310811</td>\n      <td>7732977</td>\n      <td>90</td>\n      <td>64</td>\n      <td>BOOM Esports</td>\n      <td>46.0</td>\n      <td>0.621622</td>\n      <td>0.584416</td>\n    </tr>\n    <tr>\n      <th>88</th>\n      <td>8.0</td>\n      <td>15.0</td>\n      <td>2105.411765</td>\n      <td>5623.352941</td>\n      <td>6.558824</td>\n      <td>34.0</td>\n      <td>5.0</td>\n      <td>6.0</td>\n      <td>2672298.0</td>\n      <td>54.0</td>\n      <td>69.0</td>\n      <td>6065.970588</td>\n      <td>2672298</td>\n      <td>344</td>\n      <td>306</td>\n      <td>Infamous Gaming</td>\n      <td>21.0</td>\n      <td>0.617647</td>\n      <td>0.529231</td>\n    </tr>\n  </tbody>\n</table>\n</div>"
     },
     "metadata": {},
     "execution_count": 11
    }
   ],
   "source": [
    "results = results[results['matches'] > 30]\n",
    "results.nlargest(n=10, columns='patch_win_rate')"
   ]
  },
  {
   "cell_type": "code",
   "execution_count": 12,
   "metadata": {},
   "outputs": [
    {
     "output_type": "display_data",
     "data": {
      "application/vnd.plotly.v1+json": {
       "config": {
        "plotlyServerURL": "https://plot.ly"
       },
       "data": [
        {
         "hovertemplate": "<b>%{hovertext}</b><br><br>wins=%{x}<br>win_rate=%{y}<extra></extra>",
         "hovertext": [
          "FlyToMoon",
          "ViKin.gg",
          "Team Liquid",
          "OG",
          "B8",
          "Nigma",
          "Team Secret",
          "Team Unique",
          "Alliance",
          "VP.Prodigy",
          "FAMILY TEAM",
          "Ninjas in Pyjamas",
          "Virtus.pro",
          "Vici Gaming",
          "Sparking Arrow Gaming",
          "EHOME",
          "PSG.LGD",
          "Team Aster",
          "INVICTUS GAMING",
          "CDEC ",
          "StarLucK.Fly",
          "Royal Never Give Up",
          "Team Sirius",
          "Longinus",
          "KEEN GAMING",
          "Aggressive Mode",
          "LGD.international",
          "iG.Vitality",
          "Blaze",
          "EHOME.Immortal",
          "HellRaisers",
          "OG.Seed",
          "BOOM Esports",
          "Fnatic",
          "T1",
          "Adroit",
          "Neon Esports",
          "Reality Rift",
          "Geek Fam",
          "Cignal Ultra",
          "Execration",
          "TNC Predator",
          "Aster.Aries",
          "496 Gaming",
          "Winstrike Team",
          "FlyToMoon 2.0",
          "KHAN",
          "Cyber Legacy",
          "Team Empire Hope",
          "Quincy Crew",
          "CR4ZY",
          "4 Zoomers",
          "beastcoast",
          "Thunder Predator",
          "Evil Geniuses",
          "business associates",
          "Nemiga Gaming",
          "NOVA",
          "TEAM HEROIC",
          "Cyberium",
          "Infamous Gaming",
          "Ocean",
          "Flash Point Gaming",
          "The New Top",
          "Impunity",
          "Typhoon",
          "Elephant",
          "Busy Gaming",
          "GoodFellaz",
          "Flower Gaming",
          "S A D B O Y S . A U",
          "Team Honor",
          "Team Cobra",
          "Team Brave",
          "Team Sincere",
          "Vampire Gamig",
          "TEAM Ethereal",
          "Revenge Gaming",
          "Team Galaxy",
          "Team Destiny",
          "Panda Gaming",
          "Immortal Gaming",
          "Team Meteor",
          "Sunrise",
          "Future.club",
          "TEAM ASPIRATIONS",
          "WOLF",
          "Team Rockets",
          "Team Venture",
          "FIVE BROTHERS",
          "TEAM LIGHTNING",
          "Hot Pot Brother"
         ],
         "legendgroup": "",
         "marker": {
          "color": "#636efa",
          "symbol": "circle"
         },
         "mode": "markers",
         "name": "",
         "orientation": "v",
         "showlegend": false,
         "type": "scatter",
         "x": [
          153,
          204,
          938,
          604,
          30,
          109,
          842,
          73,
          1040,
          64,
          16,
          220,
          1244,
          1150,
          153,
          715,
          1212,
          223,
          1111,
          678,
          122,
          256,
          87,
          39,
          397,
          65,
          70,
          562,
          99,
          104,
          109,
          89,
          90,
          1003,
          89,
          246,
          456,
          94,
          285,
          129,
          91,
          515,
          106,
          120,
          88,
          34,
          84,
          72,
          167,
          63,
          85,
          61,
          106,
          145,
          1119,
          54,
          151,
          63,
          31,
          65,
          344,
          120,
          33,
          70,
          14,
          118,
          19,
          8,
          40,
          40,
          27,
          182,
          66,
          124,
          225,
          80,
          93,
          135,
          150,
          87,
          128,
          189,
          79,
          134,
          68,
          62,
          203,
          179,
          69,
          213,
          82,
          129
         ],
         "xaxis": "x",
         "y": [
          0.5583941605839416,
          0.6163141993957704,
          0.6063348416289592,
          0.6317991631799164,
          0.2830188679245283,
          0.5767195767195767,
          0.6845528455284553,
          0.47096774193548385,
          0.5704882062534284,
          0.6881720430107527,
          0.42105263157894735,
          0.5092592592592593,
          0.5688157293095565,
          0.6027253668763103,
          0.59765625,
          0.5551242236024845,
          0.6063031515757878,
          0.5114678899082569,
          0.5944355270197966,
          0.5561936013125512,
          0.5147679324894515,
          0.5565217391304348,
          0.47282608695652173,
          0.34513274336283184,
          0.5006305170239597,
          0.48872180451127817,
          0.5072463768115942,
          0.5203703703703704,
          0.5789473684210527,
          0.4297520661157025,
          0.49321266968325794,
          0.5460122699386503,
          0.5844155844155844,
          0.5862068965517241,
          0.5460122699386503,
          0.6,
          0.5868725868725869,
          0.44339622641509435,
          0.5555555555555556,
          0.4271523178807947,
          0.52,
          0.5852272727272727,
          0.45689655172413796,
          0.47808764940239046,
          0.43349753694581283,
          0.4722222222222222,
          0.5,
          0.4161849710982659,
          0.5585284280936454,
          0.7,
          0.5666666666666667,
          0.6161616161616161,
          0.5492227979274611,
          0.6682027649769585,
          0.6223581757508343,
          0.4954128440366973,
          0.5016611295681063,
          0.5943396226415094,
          0.4696969696969697,
          0.4961832061068702,
          0.5292307692307693,
          0.4979253112033195,
          0.6226415094339622,
          0.4093567251461988,
          0.358974358974359,
          0.4354243542435424,
          0.35185185185185186,
          0.21621621621621623,
          0.45454545454545453,
          0.5714285714285714,
          0.6,
          0.48663101604278075,
          0.46808510638297873,
          0.4979919678714859,
          0.4726890756302521,
          0.5405405405405406,
          0.5502958579881657,
          0.4560810810810811,
          0.4966887417218543,
          0.5471698113207547,
          0.5079365079365079,
          0.49606299212598426,
          0.5266666666666666,
          0.5095057034220533,
          0.4927536231884058,
          0.4732824427480916,
          0.45617977528089887,
          0.4931129476584022,
          0.5609756097560976,
          0.5071428571428571,
          0.5256410256410257,
          0.5078740157480315
         ],
         "yaxis": "y"
        }
       ],
       "layout": {
        "legend": {
         "tracegroupgap": 0
        },
        "margin": {
         "t": 60
        },
        "template": {
         "data": {
          "bar": [
           {
            "error_x": {
             "color": "#2a3f5f"
            },
            "error_y": {
             "color": "#2a3f5f"
            },
            "marker": {
             "line": {
              "color": "#E5ECF6",
              "width": 0.5
             }
            },
            "type": "bar"
           }
          ],
          "barpolar": [
           {
            "marker": {
             "line": {
              "color": "#E5ECF6",
              "width": 0.5
             }
            },
            "type": "barpolar"
           }
          ],
          "carpet": [
           {
            "aaxis": {
             "endlinecolor": "#2a3f5f",
             "gridcolor": "white",
             "linecolor": "white",
             "minorgridcolor": "white",
             "startlinecolor": "#2a3f5f"
            },
            "baxis": {
             "endlinecolor": "#2a3f5f",
             "gridcolor": "white",
             "linecolor": "white",
             "minorgridcolor": "white",
             "startlinecolor": "#2a3f5f"
            },
            "type": "carpet"
           }
          ],
          "choropleth": [
           {
            "colorbar": {
             "outlinewidth": 0,
             "ticks": ""
            },
            "type": "choropleth"
           }
          ],
          "contour": [
           {
            "colorbar": {
             "outlinewidth": 0,
             "ticks": ""
            },
            "colorscale": [
             [
              0,
              "#0d0887"
             ],
             [
              0.1111111111111111,
              "#46039f"
             ],
             [
              0.2222222222222222,
              "#7201a8"
             ],
             [
              0.3333333333333333,
              "#9c179e"
             ],
             [
              0.4444444444444444,
              "#bd3786"
             ],
             [
              0.5555555555555556,
              "#d8576b"
             ],
             [
              0.6666666666666666,
              "#ed7953"
             ],
             [
              0.7777777777777778,
              "#fb9f3a"
             ],
             [
              0.8888888888888888,
              "#fdca26"
             ],
             [
              1,
              "#f0f921"
             ]
            ],
            "type": "contour"
           }
          ],
          "contourcarpet": [
           {
            "colorbar": {
             "outlinewidth": 0,
             "ticks": ""
            },
            "type": "contourcarpet"
           }
          ],
          "heatmap": [
           {
            "colorbar": {
             "outlinewidth": 0,
             "ticks": ""
            },
            "colorscale": [
             [
              0,
              "#0d0887"
             ],
             [
              0.1111111111111111,
              "#46039f"
             ],
             [
              0.2222222222222222,
              "#7201a8"
             ],
             [
              0.3333333333333333,
              "#9c179e"
             ],
             [
              0.4444444444444444,
              "#bd3786"
             ],
             [
              0.5555555555555556,
              "#d8576b"
             ],
             [
              0.6666666666666666,
              "#ed7953"
             ],
             [
              0.7777777777777778,
              "#fb9f3a"
             ],
             [
              0.8888888888888888,
              "#fdca26"
             ],
             [
              1,
              "#f0f921"
             ]
            ],
            "type": "heatmap"
           }
          ],
          "heatmapgl": [
           {
            "colorbar": {
             "outlinewidth": 0,
             "ticks": ""
            },
            "colorscale": [
             [
              0,
              "#0d0887"
             ],
             [
              0.1111111111111111,
              "#46039f"
             ],
             [
              0.2222222222222222,
              "#7201a8"
             ],
             [
              0.3333333333333333,
              "#9c179e"
             ],
             [
              0.4444444444444444,
              "#bd3786"
             ],
             [
              0.5555555555555556,
              "#d8576b"
             ],
             [
              0.6666666666666666,
              "#ed7953"
             ],
             [
              0.7777777777777778,
              "#fb9f3a"
             ],
             [
              0.8888888888888888,
              "#fdca26"
             ],
             [
              1,
              "#f0f921"
             ]
            ],
            "type": "heatmapgl"
           }
          ],
          "histogram": [
           {
            "marker": {
             "colorbar": {
              "outlinewidth": 0,
              "ticks": ""
             }
            },
            "type": "histogram"
           }
          ],
          "histogram2d": [
           {
            "colorbar": {
             "outlinewidth": 0,
             "ticks": ""
            },
            "colorscale": [
             [
              0,
              "#0d0887"
             ],
             [
              0.1111111111111111,
              "#46039f"
             ],
             [
              0.2222222222222222,
              "#7201a8"
             ],
             [
              0.3333333333333333,
              "#9c179e"
             ],
             [
              0.4444444444444444,
              "#bd3786"
             ],
             [
              0.5555555555555556,
              "#d8576b"
             ],
             [
              0.6666666666666666,
              "#ed7953"
             ],
             [
              0.7777777777777778,
              "#fb9f3a"
             ],
             [
              0.8888888888888888,
              "#fdca26"
             ],
             [
              1,
              "#f0f921"
             ]
            ],
            "type": "histogram2d"
           }
          ],
          "histogram2dcontour": [
           {
            "colorbar": {
             "outlinewidth": 0,
             "ticks": ""
            },
            "colorscale": [
             [
              0,
              "#0d0887"
             ],
             [
              0.1111111111111111,
              "#46039f"
             ],
             [
              0.2222222222222222,
              "#7201a8"
             ],
             [
              0.3333333333333333,
              "#9c179e"
             ],
             [
              0.4444444444444444,
              "#bd3786"
             ],
             [
              0.5555555555555556,
              "#d8576b"
             ],
             [
              0.6666666666666666,
              "#ed7953"
             ],
             [
              0.7777777777777778,
              "#fb9f3a"
             ],
             [
              0.8888888888888888,
              "#fdca26"
             ],
             [
              1,
              "#f0f921"
             ]
            ],
            "type": "histogram2dcontour"
           }
          ],
          "mesh3d": [
           {
            "colorbar": {
             "outlinewidth": 0,
             "ticks": ""
            },
            "type": "mesh3d"
           }
          ],
          "parcoords": [
           {
            "line": {
             "colorbar": {
              "outlinewidth": 0,
              "ticks": ""
             }
            },
            "type": "parcoords"
           }
          ],
          "pie": [
           {
            "automargin": true,
            "type": "pie"
           }
          ],
          "scatter": [
           {
            "marker": {
             "colorbar": {
              "outlinewidth": 0,
              "ticks": ""
             }
            },
            "type": "scatter"
           }
          ],
          "scatter3d": [
           {
            "line": {
             "colorbar": {
              "outlinewidth": 0,
              "ticks": ""
             }
            },
            "marker": {
             "colorbar": {
              "outlinewidth": 0,
              "ticks": ""
             }
            },
            "type": "scatter3d"
           }
          ],
          "scattercarpet": [
           {
            "marker": {
             "colorbar": {
              "outlinewidth": 0,
              "ticks": ""
             }
            },
            "type": "scattercarpet"
           }
          ],
          "scattergeo": [
           {
            "marker": {
             "colorbar": {
              "outlinewidth": 0,
              "ticks": ""
             }
            },
            "type": "scattergeo"
           }
          ],
          "scattergl": [
           {
            "marker": {
             "colorbar": {
              "outlinewidth": 0,
              "ticks": ""
             }
            },
            "type": "scattergl"
           }
          ],
          "scattermapbox": [
           {
            "marker": {
             "colorbar": {
              "outlinewidth": 0,
              "ticks": ""
             }
            },
            "type": "scattermapbox"
           }
          ],
          "scatterpolar": [
           {
            "marker": {
             "colorbar": {
              "outlinewidth": 0,
              "ticks": ""
             }
            },
            "type": "scatterpolar"
           }
          ],
          "scatterpolargl": [
           {
            "marker": {
             "colorbar": {
              "outlinewidth": 0,
              "ticks": ""
             }
            },
            "type": "scatterpolargl"
           }
          ],
          "scatterternary": [
           {
            "marker": {
             "colorbar": {
              "outlinewidth": 0,
              "ticks": ""
             }
            },
            "type": "scatterternary"
           }
          ],
          "surface": [
           {
            "colorbar": {
             "outlinewidth": 0,
             "ticks": ""
            },
            "colorscale": [
             [
              0,
              "#0d0887"
             ],
             [
              0.1111111111111111,
              "#46039f"
             ],
             [
              0.2222222222222222,
              "#7201a8"
             ],
             [
              0.3333333333333333,
              "#9c179e"
             ],
             [
              0.4444444444444444,
              "#bd3786"
             ],
             [
              0.5555555555555556,
              "#d8576b"
             ],
             [
              0.6666666666666666,
              "#ed7953"
             ],
             [
              0.7777777777777778,
              "#fb9f3a"
             ],
             [
              0.8888888888888888,
              "#fdca26"
             ],
             [
              1,
              "#f0f921"
             ]
            ],
            "type": "surface"
           }
          ],
          "table": [
           {
            "cells": {
             "fill": {
              "color": "#EBF0F8"
             },
             "line": {
              "color": "white"
             }
            },
            "header": {
             "fill": {
              "color": "#C8D4E3"
             },
             "line": {
              "color": "white"
             }
            },
            "type": "table"
           }
          ]
         },
         "layout": {
          "annotationdefaults": {
           "arrowcolor": "#2a3f5f",
           "arrowhead": 0,
           "arrowwidth": 1
          },
          "coloraxis": {
           "colorbar": {
            "outlinewidth": 0,
            "ticks": ""
           }
          },
          "colorscale": {
           "diverging": [
            [
             0,
             "#8e0152"
            ],
            [
             0.1,
             "#c51b7d"
            ],
            [
             0.2,
             "#de77ae"
            ],
            [
             0.3,
             "#f1b6da"
            ],
            [
             0.4,
             "#fde0ef"
            ],
            [
             0.5,
             "#f7f7f7"
            ],
            [
             0.6,
             "#e6f5d0"
            ],
            [
             0.7,
             "#b8e186"
            ],
            [
             0.8,
             "#7fbc41"
            ],
            [
             0.9,
             "#4d9221"
            ],
            [
             1,
             "#276419"
            ]
           ],
           "sequential": [
            [
             0,
             "#0d0887"
            ],
            [
             0.1111111111111111,
             "#46039f"
            ],
            [
             0.2222222222222222,
             "#7201a8"
            ],
            [
             0.3333333333333333,
             "#9c179e"
            ],
            [
             0.4444444444444444,
             "#bd3786"
            ],
            [
             0.5555555555555556,
             "#d8576b"
            ],
            [
             0.6666666666666666,
             "#ed7953"
            ],
            [
             0.7777777777777778,
             "#fb9f3a"
            ],
            [
             0.8888888888888888,
             "#fdca26"
            ],
            [
             1,
             "#f0f921"
            ]
           ],
           "sequentialminus": [
            [
             0,
             "#0d0887"
            ],
            [
             0.1111111111111111,
             "#46039f"
            ],
            [
             0.2222222222222222,
             "#7201a8"
            ],
            [
             0.3333333333333333,
             "#9c179e"
            ],
            [
             0.4444444444444444,
             "#bd3786"
            ],
            [
             0.5555555555555556,
             "#d8576b"
            ],
            [
             0.6666666666666666,
             "#ed7953"
            ],
            [
             0.7777777777777778,
             "#fb9f3a"
            ],
            [
             0.8888888888888888,
             "#fdca26"
            ],
            [
             1,
             "#f0f921"
            ]
           ]
          },
          "colorway": [
           "#636efa",
           "#EF553B",
           "#00cc96",
           "#ab63fa",
           "#FFA15A",
           "#19d3f3",
           "#FF6692",
           "#B6E880",
           "#FF97FF",
           "#FECB52"
          ],
          "font": {
           "color": "#2a3f5f"
          },
          "geo": {
           "bgcolor": "white",
           "lakecolor": "white",
           "landcolor": "#E5ECF6",
           "showlakes": true,
           "showland": true,
           "subunitcolor": "white"
          },
          "hoverlabel": {
           "align": "left"
          },
          "hovermode": "closest",
          "mapbox": {
           "style": "light"
          },
          "paper_bgcolor": "white",
          "plot_bgcolor": "#E5ECF6",
          "polar": {
           "angularaxis": {
            "gridcolor": "white",
            "linecolor": "white",
            "ticks": ""
           },
           "bgcolor": "#E5ECF6",
           "radialaxis": {
            "gridcolor": "white",
            "linecolor": "white",
            "ticks": ""
           }
          },
          "scene": {
           "xaxis": {
            "backgroundcolor": "#E5ECF6",
            "gridcolor": "white",
            "gridwidth": 2,
            "linecolor": "white",
            "showbackground": true,
            "ticks": "",
            "zerolinecolor": "white"
           },
           "yaxis": {
            "backgroundcolor": "#E5ECF6",
            "gridcolor": "white",
            "gridwidth": 2,
            "linecolor": "white",
            "showbackground": true,
            "ticks": "",
            "zerolinecolor": "white"
           },
           "zaxis": {
            "backgroundcolor": "#E5ECF6",
            "gridcolor": "white",
            "gridwidth": 2,
            "linecolor": "white",
            "showbackground": true,
            "ticks": "",
            "zerolinecolor": "white"
           }
          },
          "shapedefaults": {
           "line": {
            "color": "#2a3f5f"
           }
          },
          "ternary": {
           "aaxis": {
            "gridcolor": "white",
            "linecolor": "white",
            "ticks": ""
           },
           "baxis": {
            "gridcolor": "white",
            "linecolor": "white",
            "ticks": ""
           },
           "bgcolor": "#E5ECF6",
           "caxis": {
            "gridcolor": "white",
            "linecolor": "white",
            "ticks": ""
           }
          },
          "title": {
           "x": 0.05
          },
          "xaxis": {
           "automargin": true,
           "gridcolor": "white",
           "linecolor": "white",
           "ticks": "",
           "title": {
            "standoff": 15
           },
           "zerolinecolor": "white",
           "zerolinewidth": 2
          },
          "yaxis": {
           "automargin": true,
           "gridcolor": "white",
           "linecolor": "white",
           "ticks": "",
           "title": {
            "standoff": 15
           },
           "zerolinecolor": "white",
           "zerolinewidth": 2
          }
         }
        },
        "title": {
         "text": "Number of Wins vs Overall Winrate for All Time",
         "x": 0.5,
         "xanchor": "center",
         "y": 0.95,
         "yanchor": "top"
        },
        "xaxis": {
         "anchor": "y",
         "domain": [
          0,
          1
         ],
         "title": {
          "text": "Number of Wins"
         }
        },
        "yaxis": {
         "anchor": "x",
         "domain": [
          0,
          1
         ],
         "title": {
          "text": "Win Rate"
         }
        }
       }
      }
     },
     "metadata": {}
    }
   ],
   "source": [
    "fig = px.scatter(results, x=\"wins\", y=\"win_rate\", hover_name='name')\n",
    "fig.update_layout(title={'text': 'Number of Wins vs Overall Winrate for All Time',\n",
    "                         'y':0.95,\n",
    "                         'x':0.5,\n",
    "                         'xanchor': 'center',\n",
    "                         'yanchor': 'top'})\n",
    "fig.update_layout(xaxis_title='Number of Wins',\n",
    "                  yaxis_title='Win Rate')\n",
    "fig.show()"
   ]
  },
  {
   "cell_type": "code",
   "execution_count": 13,
   "metadata": {},
   "outputs": [
    {
     "output_type": "display_data",
     "data": {
      "application/vnd.plotly.v1+json": {
       "config": {
        "plotlyServerURL": "https://plot.ly"
       },
       "data": [
        {
         "hovertemplate": "<b>%{hovertext}</b><br><br>patch_wins=%{x}<br>patch_win_rate=%{y}<extra></extra>",
         "hovertext": [
          "FlyToMoon",
          "ViKin.gg",
          "Team Liquid",
          "OG",
          "B8",
          "Nigma",
          "Team Secret",
          "Team Unique",
          "Alliance",
          "VP.Prodigy",
          "FAMILY TEAM",
          "Ninjas in Pyjamas",
          "Virtus.pro",
          "Vici Gaming",
          "Sparking Arrow Gaming",
          "EHOME",
          "PSG.LGD",
          "Team Aster",
          "INVICTUS GAMING",
          "CDEC ",
          "StarLucK.Fly",
          "Royal Never Give Up",
          "Team Sirius",
          "Longinus",
          "KEEN GAMING",
          "Aggressive Mode",
          "LGD.international",
          "iG.Vitality",
          "Blaze",
          "EHOME.Immortal",
          "HellRaisers",
          "OG.Seed",
          "BOOM Esports",
          "Fnatic",
          "T1",
          "Adroit",
          "Neon Esports",
          "Reality Rift",
          "Geek Fam",
          "Cignal Ultra",
          "Execration",
          "TNC Predator",
          "Aster.Aries",
          "496 Gaming",
          "Winstrike Team",
          "FlyToMoon 2.0",
          "KHAN",
          "Cyber Legacy",
          "Team Empire Hope",
          "Quincy Crew",
          "CR4ZY",
          "4 Zoomers",
          "beastcoast",
          "Thunder Predator",
          "Evil Geniuses",
          "business associates",
          "Nemiga Gaming",
          "NOVA",
          "TEAM HEROIC",
          "Cyberium",
          "Infamous Gaming",
          "Ocean",
          "Flash Point Gaming",
          "The New Top",
          "Impunity",
          "Typhoon",
          "Elephant",
          "Busy Gaming",
          "GoodFellaz",
          "Flower Gaming",
          "S A D B O Y S . A U",
          "Team Honor",
          "Team Cobra",
          "Team Brave",
          "Team Sincere",
          "Vampire Gamig",
          "TEAM Ethereal",
          "Revenge Gaming",
          "Team Galaxy",
          "Team Destiny",
          "Panda Gaming",
          "Immortal Gaming",
          "Team Meteor",
          "Sunrise",
          "Future.club",
          "TEAM ASPIRATIONS",
          "WOLF",
          "Team Rockets",
          "Team Venture",
          "FIVE BROTHERS",
          "TEAM LIGHTNING",
          "Hot Pot Brother"
         ],
         "legendgroup": "",
         "marker": {
          "color": "#636efa",
          "symbol": "circle"
         },
         "mode": "markers",
         "name": "",
         "orientation": "v",
         "showlegend": false,
         "type": "scatter",
         "x": [
          50,
          51,
          48,
          33,
          8,
          37,
          67,
          50,
          34,
          32,
          16,
          26,
          46,
          39,
          37,
          30,
          52,
          24,
          50,
          48,
          46,
          37,
          24,
          24,
          16,
          21,
          42,
          40,
          32,
          29,
          22,
          38,
          46,
          52,
          55,
          39,
          85,
          34,
          51,
          45,
          37,
          30,
          37,
          33,
          17,
          22,
          23,
          13,
          55,
          29,
          43,
          31,
          20,
          36,
          21,
          20,
          24,
          44,
          26,
          20,
          21,
          58,
          21,
          29,
          11,
          19,
          16,
          8,
          30,
          20,
          22,
          32,
          22,
          30,
          24,
          37,
          48,
          19,
          49,
          41,
          46,
          36,
          16,
          48,
          45,
          43,
          43,
          38,
          46,
          48,
          53,
          34
         ],
         "xaxis": "x",
         "y": [
          0.6097560975609756,
          0.5730337078651685,
          0.5783132530120482,
          0.4852941176470588,
          0.22857142857142856,
          0.5967741935483871,
          0.8589743589743589,
          0.5,
          0.5074626865671642,
          0.6037735849056604,
          0.42105263157894735,
          0.41935483870967744,
          0.575,
          0.6,
          0.4868421052631579,
          0.5357142857142857,
          0.6582278481012658,
          0.4528301886792453,
          0.5555555555555556,
          0.5925925925925926,
          0.45098039215686275,
          0.5522388059701493,
          0.5454545454545454,
          0.39344262295081966,
          0.35555555555555557,
          0.6774193548387096,
          0.46153846153846156,
          0.547945205479452,
          0.5423728813559322,
          0.4461538461538462,
          0.4074074074074074,
          0.6440677966101694,
          0.6216216216216216,
          0.7536231884057971,
          0.6111111111111112,
          0.5571428571428572,
          0.5902777777777778,
          0.4358974358974359,
          0.6710526315789473,
          0.38461538461538464,
          0.3978494623655914,
          0.5084745762711864,
          0.5522388059701493,
          0.42857142857142855,
          0.3695652173913043,
          0.4230769230769231,
          0.45098039215686275,
          0.37142857142857144,
          0.5789473684210527,
          0.7435897435897436,
          0.5512820512820513,
          0.543859649122807,
          0.4444444444444444,
          0.5901639344262295,
          0.5384615384615384,
          0.5555555555555556,
          0.5714285714285714,
          0.5714285714285714,
          0.48148148148148145,
          0.43478260869565216,
          0.6176470588235294,
          0.5471698113207547,
          0.5384615384615384,
          0.48333333333333334,
          0.3142857142857143,
          0.41304347826086957,
          0.4444444444444444,
          0.25,
          0.4918032786885246,
          0.6060606060606061,
          0.6285714285714286,
          0.38095238095238093,
          0.3548387096774194,
          0.46153846153846156,
          0.5217391304347826,
          0.5606060606060606,
          0.5333333333333333,
          0.48717948717948717,
          0.5051546391752577,
          0.5942028985507246,
          0.5822784810126582,
          0.5142857142857142,
          0.5161290322580645,
          0.5052631578947369,
          0.5056179775280899,
          0.48314606741573035,
          0.4387755102040816,
          0.4175824175824176,
          0.5897435897435898,
          0.5,
          0.5463917525773195,
          0.53125
         ],
         "yaxis": "y"
        }
       ],
       "layout": {
        "legend": {
         "tracegroupgap": 0
        },
        "margin": {
         "t": 60
        },
        "template": {
         "data": {
          "bar": [
           {
            "error_x": {
             "color": "#2a3f5f"
            },
            "error_y": {
             "color": "#2a3f5f"
            },
            "marker": {
             "line": {
              "color": "#E5ECF6",
              "width": 0.5
             }
            },
            "type": "bar"
           }
          ],
          "barpolar": [
           {
            "marker": {
             "line": {
              "color": "#E5ECF6",
              "width": 0.5
             }
            },
            "type": "barpolar"
           }
          ],
          "carpet": [
           {
            "aaxis": {
             "endlinecolor": "#2a3f5f",
             "gridcolor": "white",
             "linecolor": "white",
             "minorgridcolor": "white",
             "startlinecolor": "#2a3f5f"
            },
            "baxis": {
             "endlinecolor": "#2a3f5f",
             "gridcolor": "white",
             "linecolor": "white",
             "minorgridcolor": "white",
             "startlinecolor": "#2a3f5f"
            },
            "type": "carpet"
           }
          ],
          "choropleth": [
           {
            "colorbar": {
             "outlinewidth": 0,
             "ticks": ""
            },
            "type": "choropleth"
           }
          ],
          "contour": [
           {
            "colorbar": {
             "outlinewidth": 0,
             "ticks": ""
            },
            "colorscale": [
             [
              0,
              "#0d0887"
             ],
             [
              0.1111111111111111,
              "#46039f"
             ],
             [
              0.2222222222222222,
              "#7201a8"
             ],
             [
              0.3333333333333333,
              "#9c179e"
             ],
             [
              0.4444444444444444,
              "#bd3786"
             ],
             [
              0.5555555555555556,
              "#d8576b"
             ],
             [
              0.6666666666666666,
              "#ed7953"
             ],
             [
              0.7777777777777778,
              "#fb9f3a"
             ],
             [
              0.8888888888888888,
              "#fdca26"
             ],
             [
              1,
              "#f0f921"
             ]
            ],
            "type": "contour"
           }
          ],
          "contourcarpet": [
           {
            "colorbar": {
             "outlinewidth": 0,
             "ticks": ""
            },
            "type": "contourcarpet"
           }
          ],
          "heatmap": [
           {
            "colorbar": {
             "outlinewidth": 0,
             "ticks": ""
            },
            "colorscale": [
             [
              0,
              "#0d0887"
             ],
             [
              0.1111111111111111,
              "#46039f"
             ],
             [
              0.2222222222222222,
              "#7201a8"
             ],
             [
              0.3333333333333333,
              "#9c179e"
             ],
             [
              0.4444444444444444,
              "#bd3786"
             ],
             [
              0.5555555555555556,
              "#d8576b"
             ],
             [
              0.6666666666666666,
              "#ed7953"
             ],
             [
              0.7777777777777778,
              "#fb9f3a"
             ],
             [
              0.8888888888888888,
              "#fdca26"
             ],
             [
              1,
              "#f0f921"
             ]
            ],
            "type": "heatmap"
           }
          ],
          "heatmapgl": [
           {
            "colorbar": {
             "outlinewidth": 0,
             "ticks": ""
            },
            "colorscale": [
             [
              0,
              "#0d0887"
             ],
             [
              0.1111111111111111,
              "#46039f"
             ],
             [
              0.2222222222222222,
              "#7201a8"
             ],
             [
              0.3333333333333333,
              "#9c179e"
             ],
             [
              0.4444444444444444,
              "#bd3786"
             ],
             [
              0.5555555555555556,
              "#d8576b"
             ],
             [
              0.6666666666666666,
              "#ed7953"
             ],
             [
              0.7777777777777778,
              "#fb9f3a"
             ],
             [
              0.8888888888888888,
              "#fdca26"
             ],
             [
              1,
              "#f0f921"
             ]
            ],
            "type": "heatmapgl"
           }
          ],
          "histogram": [
           {
            "marker": {
             "colorbar": {
              "outlinewidth": 0,
              "ticks": ""
             }
            },
            "type": "histogram"
           }
          ],
          "histogram2d": [
           {
            "colorbar": {
             "outlinewidth": 0,
             "ticks": ""
            },
            "colorscale": [
             [
              0,
              "#0d0887"
             ],
             [
              0.1111111111111111,
              "#46039f"
             ],
             [
              0.2222222222222222,
              "#7201a8"
             ],
             [
              0.3333333333333333,
              "#9c179e"
             ],
             [
              0.4444444444444444,
              "#bd3786"
             ],
             [
              0.5555555555555556,
              "#d8576b"
             ],
             [
              0.6666666666666666,
              "#ed7953"
             ],
             [
              0.7777777777777778,
              "#fb9f3a"
             ],
             [
              0.8888888888888888,
              "#fdca26"
             ],
             [
              1,
              "#f0f921"
             ]
            ],
            "type": "histogram2d"
           }
          ],
          "histogram2dcontour": [
           {
            "colorbar": {
             "outlinewidth": 0,
             "ticks": ""
            },
            "colorscale": [
             [
              0,
              "#0d0887"
             ],
             [
              0.1111111111111111,
              "#46039f"
             ],
             [
              0.2222222222222222,
              "#7201a8"
             ],
             [
              0.3333333333333333,
              "#9c179e"
             ],
             [
              0.4444444444444444,
              "#bd3786"
             ],
             [
              0.5555555555555556,
              "#d8576b"
             ],
             [
              0.6666666666666666,
              "#ed7953"
             ],
             [
              0.7777777777777778,
              "#fb9f3a"
             ],
             [
              0.8888888888888888,
              "#fdca26"
             ],
             [
              1,
              "#f0f921"
             ]
            ],
            "type": "histogram2dcontour"
           }
          ],
          "mesh3d": [
           {
            "colorbar": {
             "outlinewidth": 0,
             "ticks": ""
            },
            "type": "mesh3d"
           }
          ],
          "parcoords": [
           {
            "line": {
             "colorbar": {
              "outlinewidth": 0,
              "ticks": ""
             }
            },
            "type": "parcoords"
           }
          ],
          "pie": [
           {
            "automargin": true,
            "type": "pie"
           }
          ],
          "scatter": [
           {
            "marker": {
             "colorbar": {
              "outlinewidth": 0,
              "ticks": ""
             }
            },
            "type": "scatter"
           }
          ],
          "scatter3d": [
           {
            "line": {
             "colorbar": {
              "outlinewidth": 0,
              "ticks": ""
             }
            },
            "marker": {
             "colorbar": {
              "outlinewidth": 0,
              "ticks": ""
             }
            },
            "type": "scatter3d"
           }
          ],
          "scattercarpet": [
           {
            "marker": {
             "colorbar": {
              "outlinewidth": 0,
              "ticks": ""
             }
            },
            "type": "scattercarpet"
           }
          ],
          "scattergeo": [
           {
            "marker": {
             "colorbar": {
              "outlinewidth": 0,
              "ticks": ""
             }
            },
            "type": "scattergeo"
           }
          ],
          "scattergl": [
           {
            "marker": {
             "colorbar": {
              "outlinewidth": 0,
              "ticks": ""
             }
            },
            "type": "scattergl"
           }
          ],
          "scattermapbox": [
           {
            "marker": {
             "colorbar": {
              "outlinewidth": 0,
              "ticks": ""
             }
            },
            "type": "scattermapbox"
           }
          ],
          "scatterpolar": [
           {
            "marker": {
             "colorbar": {
              "outlinewidth": 0,
              "ticks": ""
             }
            },
            "type": "scatterpolar"
           }
          ],
          "scatterpolargl": [
           {
            "marker": {
             "colorbar": {
              "outlinewidth": 0,
              "ticks": ""
             }
            },
            "type": "scatterpolargl"
           }
          ],
          "scatterternary": [
           {
            "marker": {
             "colorbar": {
              "outlinewidth": 0,
              "ticks": ""
             }
            },
            "type": "scatterternary"
           }
          ],
          "surface": [
           {
            "colorbar": {
             "outlinewidth": 0,
             "ticks": ""
            },
            "colorscale": [
             [
              0,
              "#0d0887"
             ],
             [
              0.1111111111111111,
              "#46039f"
             ],
             [
              0.2222222222222222,
              "#7201a8"
             ],
             [
              0.3333333333333333,
              "#9c179e"
             ],
             [
              0.4444444444444444,
              "#bd3786"
             ],
             [
              0.5555555555555556,
              "#d8576b"
             ],
             [
              0.6666666666666666,
              "#ed7953"
             ],
             [
              0.7777777777777778,
              "#fb9f3a"
             ],
             [
              0.8888888888888888,
              "#fdca26"
             ],
             [
              1,
              "#f0f921"
             ]
            ],
            "type": "surface"
           }
          ],
          "table": [
           {
            "cells": {
             "fill": {
              "color": "#EBF0F8"
             },
             "line": {
              "color": "white"
             }
            },
            "header": {
             "fill": {
              "color": "#C8D4E3"
             },
             "line": {
              "color": "white"
             }
            },
            "type": "table"
           }
          ]
         },
         "layout": {
          "annotationdefaults": {
           "arrowcolor": "#2a3f5f",
           "arrowhead": 0,
           "arrowwidth": 1
          },
          "coloraxis": {
           "colorbar": {
            "outlinewidth": 0,
            "ticks": ""
           }
          },
          "colorscale": {
           "diverging": [
            [
             0,
             "#8e0152"
            ],
            [
             0.1,
             "#c51b7d"
            ],
            [
             0.2,
             "#de77ae"
            ],
            [
             0.3,
             "#f1b6da"
            ],
            [
             0.4,
             "#fde0ef"
            ],
            [
             0.5,
             "#f7f7f7"
            ],
            [
             0.6,
             "#e6f5d0"
            ],
            [
             0.7,
             "#b8e186"
            ],
            [
             0.8,
             "#7fbc41"
            ],
            [
             0.9,
             "#4d9221"
            ],
            [
             1,
             "#276419"
            ]
           ],
           "sequential": [
            [
             0,
             "#0d0887"
            ],
            [
             0.1111111111111111,
             "#46039f"
            ],
            [
             0.2222222222222222,
             "#7201a8"
            ],
            [
             0.3333333333333333,
             "#9c179e"
            ],
            [
             0.4444444444444444,
             "#bd3786"
            ],
            [
             0.5555555555555556,
             "#d8576b"
            ],
            [
             0.6666666666666666,
             "#ed7953"
            ],
            [
             0.7777777777777778,
             "#fb9f3a"
            ],
            [
             0.8888888888888888,
             "#fdca26"
            ],
            [
             1,
             "#f0f921"
            ]
           ],
           "sequentialminus": [
            [
             0,
             "#0d0887"
            ],
            [
             0.1111111111111111,
             "#46039f"
            ],
            [
             0.2222222222222222,
             "#7201a8"
            ],
            [
             0.3333333333333333,
             "#9c179e"
            ],
            [
             0.4444444444444444,
             "#bd3786"
            ],
            [
             0.5555555555555556,
             "#d8576b"
            ],
            [
             0.6666666666666666,
             "#ed7953"
            ],
            [
             0.7777777777777778,
             "#fb9f3a"
            ],
            [
             0.8888888888888888,
             "#fdca26"
            ],
            [
             1,
             "#f0f921"
            ]
           ]
          },
          "colorway": [
           "#636efa",
           "#EF553B",
           "#00cc96",
           "#ab63fa",
           "#FFA15A",
           "#19d3f3",
           "#FF6692",
           "#B6E880",
           "#FF97FF",
           "#FECB52"
          ],
          "font": {
           "color": "#2a3f5f"
          },
          "geo": {
           "bgcolor": "white",
           "lakecolor": "white",
           "landcolor": "#E5ECF6",
           "showlakes": true,
           "showland": true,
           "subunitcolor": "white"
          },
          "hoverlabel": {
           "align": "left"
          },
          "hovermode": "closest",
          "mapbox": {
           "style": "light"
          },
          "paper_bgcolor": "white",
          "plot_bgcolor": "#E5ECF6",
          "polar": {
           "angularaxis": {
            "gridcolor": "white",
            "linecolor": "white",
            "ticks": ""
           },
           "bgcolor": "#E5ECF6",
           "radialaxis": {
            "gridcolor": "white",
            "linecolor": "white",
            "ticks": ""
           }
          },
          "scene": {
           "xaxis": {
            "backgroundcolor": "#E5ECF6",
            "gridcolor": "white",
            "gridwidth": 2,
            "linecolor": "white",
            "showbackground": true,
            "ticks": "",
            "zerolinecolor": "white"
           },
           "yaxis": {
            "backgroundcolor": "#E5ECF6",
            "gridcolor": "white",
            "gridwidth": 2,
            "linecolor": "white",
            "showbackground": true,
            "ticks": "",
            "zerolinecolor": "white"
           },
           "zaxis": {
            "backgroundcolor": "#E5ECF6",
            "gridcolor": "white",
            "gridwidth": 2,
            "linecolor": "white",
            "showbackground": true,
            "ticks": "",
            "zerolinecolor": "white"
           }
          },
          "shapedefaults": {
           "line": {
            "color": "#2a3f5f"
           }
          },
          "ternary": {
           "aaxis": {
            "gridcolor": "white",
            "linecolor": "white",
            "ticks": ""
           },
           "baxis": {
            "gridcolor": "white",
            "linecolor": "white",
            "ticks": ""
           },
           "bgcolor": "#E5ECF6",
           "caxis": {
            "gridcolor": "white",
            "linecolor": "white",
            "ticks": ""
           }
          },
          "title": {
           "x": 0.05
          },
          "xaxis": {
           "automargin": true,
           "gridcolor": "white",
           "linecolor": "white",
           "ticks": "",
           "title": {
            "standoff": 15
           },
           "zerolinecolor": "white",
           "zerolinewidth": 2
          },
          "yaxis": {
           "automargin": true,
           "gridcolor": "white",
           "linecolor": "white",
           "ticks": "",
           "title": {
            "standoff": 15
           },
           "zerolinecolor": "white",
           "zerolinewidth": 2
          }
         }
        },
        "title": {
         "text": "Number of Wins vs Overall Winrate for Patch 7.26c",
         "x": 0.5,
         "xanchor": "center",
         "y": 0.95,
         "yanchor": "top"
        },
        "xaxis": {
         "anchor": "y",
         "domain": [
          0,
          1
         ],
         "title": {
          "text": "Number of Wins"
         }
        },
        "yaxis": {
         "anchor": "x",
         "domain": [
          0,
          1
         ],
         "title": {
          "text": "Win Rate"
         }
        }
       }
      }
     },
     "metadata": {}
    }
   ],
   "source": [
    "fig = px.scatter(results, x=\"patch_wins\", y=\"patch_win_rate\", hover_name='name')\n",
    "fig.update_layout(title={'text': 'Number of Wins vs Overall Winrate for Patch 7.26c',\n",
    "                         'y':0.95,\n",
    "                         'x':0.5,\n",
    "                         'xanchor': 'center',\n",
    "                         'yanchor': 'top'})\n",
    "fig.update_layout(xaxis_title='Number of Wins',\n",
    "                  yaxis_title='Win Rate')\n",
    "fig.show()"
   ]
  },
  {
   "cell_type": "code",
   "execution_count": 29,
   "metadata": {},
   "outputs": [
    {
     "output_type": "display_data",
     "data": {
      "application/vnd.plotly.v1+json": {
       "config": {
        "plotlyServerURL": "https://plot.ly"
       },
       "data": [
        {
         "name": "Radiant",
         "type": "bar",
         "x": [
          "Team Secret",
          "Fnatic",
          "Quincy Crew",
          "Aggressive Mode",
          "Geek Fam",
          "PSG.LGD",
          "OG.Seed",
          "S A D B O Y S . A U",
          "BOOM Esports",
          "Infamous Gaming",
          "T1",
          "FlyToMoon",
          "Flower Gaming",
          "VP.Prodigy",
          "Vici Gaming",
          "Nigma",
          "Team Destiny",
          "CDEC ",
          "Neon Esports",
          "Thunder Predator",
          "Team Venture",
          "Panda Gaming",
          "Team Empire Hope",
          "Team Liquid",
          "Virtus.pro",
          "ViKin.gg",
          "Nemiga Gaming",
          "NOVA",
          "Vampire Gamig",
          "Adroit",
          "INVICTUS GAMING",
          "business associates",
          "Royal Never Give Up",
          "Aster.Aries",
          "CR4ZY",
          "iG.Vitality",
          "Ocean",
          "TEAM LIGHTNING",
          "Team Sirius",
          "4 Zoomers",
          "Blaze",
          "Evil Geniuses",
          "Flash Point Gaming",
          "EHOME",
          "TEAM Ethereal",
          "Hot Pot Brother",
          "Team Sincere",
          "Team Meteor",
          "Immortal Gaming",
          "TNC Predator"
         ],
         "xaxis": "x",
         "y": [
          0.8709677419354839,
          0.75,
          0.75,
          0.7272727272727273,
          0.71875,
          0.625,
          0.6666666666666666,
          0.6521739130434783,
          0.5,
          0.5454545454545454,
          0.5952380952380952,
          0.6612903225806451,
          0.42105263157894735,
          0.5833333333333334,
          0.5918367346938775,
          0.6666666666666666,
          0.7096774193548387,
          0.5961538461538461,
          0.6521739130434783,
          0.53125,
          0.5348837209302325,
          0.6097560975609756,
          0.6190476190476191,
          0.5609756097560976,
          0.5641025641025641,
          0.5873015873015873,
          0.7142857142857143,
          0.5526315789473685,
          0.5294117647058824,
          0.45161290322580644,
          0.6176470588235294,
          0.5,
          0.375,
          0.5789473684210527,
          0.5849056603773585,
          0.23076923076923078,
          0.5178571428571429,
          0.5434782608695652,
          0.5483870967741935,
          0.6176470588235294,
          0.5555555555555556,
          0.5555555555555556,
          0.5161290322580645,
          0.46875,
          0.5333333333333333,
          0.59375,
          0.45454545454545453,
          0.5333333333333333,
          0.4722222222222222,
          0.5142857142857142
         ],
         "yaxis": "y"
        },
        {
         "name": "Dire",
         "type": "bar",
         "x": [
          "Team Secret",
          "Fnatic",
          "Quincy Crew",
          "Aggressive Mode",
          "Geek Fam",
          "PSG.LGD",
          "OG.Seed",
          "S A D B O Y S . A U",
          "BOOM Esports",
          "Infamous Gaming",
          "T1",
          "FlyToMoon",
          "Flower Gaming",
          "VP.Prodigy",
          "Vici Gaming",
          "Nigma",
          "Team Destiny",
          "CDEC ",
          "Neon Esports",
          "Thunder Predator",
          "Team Venture",
          "Panda Gaming",
          "Team Empire Hope",
          "Team Liquid",
          "Virtus.pro",
          "ViKin.gg",
          "Nemiga Gaming",
          "NOVA",
          "Vampire Gamig",
          "Adroit",
          "INVICTUS GAMING",
          "business associates",
          "Royal Never Give Up",
          "Aster.Aries",
          "CR4ZY",
          "iG.Vitality",
          "Ocean",
          "TEAM LIGHTNING",
          "Team Sirius",
          "4 Zoomers",
          "Blaze",
          "Evil Geniuses",
          "Flash Point Gaming",
          "EHOME",
          "TEAM Ethereal",
          "Hot Pot Brother",
          "Team Sincere",
          "Team Meteor",
          "Immortal Gaming",
          "TNC Predator"
         ],
         "xaxis": "x2",
         "y": [
          0.851063829787234,
          0.7555555555555555,
          0.7333333333333333,
          0.5555555555555556,
          0.6363636363636364,
          0.6923076923076923,
          0.6086956521739131,
          0.5833333333333334,
          0.8,
          0.6521739130434783,
          0.625,
          0.45,
          0.8571428571428571,
          0.6470588235294118,
          0.625,
          0.5609756097560976,
          0.5,
          0.5862068965517241,
          0.5333333333333333,
          0.6551724137931034,
          0.6571428571428571,
          0.5526315789473685,
          0.5675675675675675,
          0.5952380952380952,
          0.5853658536585366,
          0.5384615384615384,
          0.42857142857142855,
          0.5897435897435898,
          0.59375,
          0.6410256410256411,
          0.5178571428571429,
          0.5714285714285714,
          0.6078431372549019,
          0.5172413793103449,
          0.48,
          0.6166666666666667,
          0.58,
          0.5490196078431373,
          0.5384615384615384,
          0.43478260869565216,
          0.5217391304347826,
          0.5238095238095238,
          0.625,
          0.625,
          0.5333333333333333,
          0.46875,
          0.5833333333333334,
          0.5,
          0.5588235294117647,
          0.5
         ],
         "yaxis": "y2"
        }
       ],
       "layout": {
        "template": {
         "data": {
          "bar": [
           {
            "error_x": {
             "color": "#2a3f5f"
            },
            "error_y": {
             "color": "#2a3f5f"
            },
            "marker": {
             "line": {
              "color": "#E5ECF6",
              "width": 0.5
             }
            },
            "type": "bar"
           }
          ],
          "barpolar": [
           {
            "marker": {
             "line": {
              "color": "#E5ECF6",
              "width": 0.5
             }
            },
            "type": "barpolar"
           }
          ],
          "carpet": [
           {
            "aaxis": {
             "endlinecolor": "#2a3f5f",
             "gridcolor": "white",
             "linecolor": "white",
             "minorgridcolor": "white",
             "startlinecolor": "#2a3f5f"
            },
            "baxis": {
             "endlinecolor": "#2a3f5f",
             "gridcolor": "white",
             "linecolor": "white",
             "minorgridcolor": "white",
             "startlinecolor": "#2a3f5f"
            },
            "type": "carpet"
           }
          ],
          "choropleth": [
           {
            "colorbar": {
             "outlinewidth": 0,
             "ticks": ""
            },
            "type": "choropleth"
           }
          ],
          "contour": [
           {
            "colorbar": {
             "outlinewidth": 0,
             "ticks": ""
            },
            "colorscale": [
             [
              0,
              "#0d0887"
             ],
             [
              0.1111111111111111,
              "#46039f"
             ],
             [
              0.2222222222222222,
              "#7201a8"
             ],
             [
              0.3333333333333333,
              "#9c179e"
             ],
             [
              0.4444444444444444,
              "#bd3786"
             ],
             [
              0.5555555555555556,
              "#d8576b"
             ],
             [
              0.6666666666666666,
              "#ed7953"
             ],
             [
              0.7777777777777778,
              "#fb9f3a"
             ],
             [
              0.8888888888888888,
              "#fdca26"
             ],
             [
              1,
              "#f0f921"
             ]
            ],
            "type": "contour"
           }
          ],
          "contourcarpet": [
           {
            "colorbar": {
             "outlinewidth": 0,
             "ticks": ""
            },
            "type": "contourcarpet"
           }
          ],
          "heatmap": [
           {
            "colorbar": {
             "outlinewidth": 0,
             "ticks": ""
            },
            "colorscale": [
             [
              0,
              "#0d0887"
             ],
             [
              0.1111111111111111,
              "#46039f"
             ],
             [
              0.2222222222222222,
              "#7201a8"
             ],
             [
              0.3333333333333333,
              "#9c179e"
             ],
             [
              0.4444444444444444,
              "#bd3786"
             ],
             [
              0.5555555555555556,
              "#d8576b"
             ],
             [
              0.6666666666666666,
              "#ed7953"
             ],
             [
              0.7777777777777778,
              "#fb9f3a"
             ],
             [
              0.8888888888888888,
              "#fdca26"
             ],
             [
              1,
              "#f0f921"
             ]
            ],
            "type": "heatmap"
           }
          ],
          "heatmapgl": [
           {
            "colorbar": {
             "outlinewidth": 0,
             "ticks": ""
            },
            "colorscale": [
             [
              0,
              "#0d0887"
             ],
             [
              0.1111111111111111,
              "#46039f"
             ],
             [
              0.2222222222222222,
              "#7201a8"
             ],
             [
              0.3333333333333333,
              "#9c179e"
             ],
             [
              0.4444444444444444,
              "#bd3786"
             ],
             [
              0.5555555555555556,
              "#d8576b"
             ],
             [
              0.6666666666666666,
              "#ed7953"
             ],
             [
              0.7777777777777778,
              "#fb9f3a"
             ],
             [
              0.8888888888888888,
              "#fdca26"
             ],
             [
              1,
              "#f0f921"
             ]
            ],
            "type": "heatmapgl"
           }
          ],
          "histogram": [
           {
            "marker": {
             "colorbar": {
              "outlinewidth": 0,
              "ticks": ""
             }
            },
            "type": "histogram"
           }
          ],
          "histogram2d": [
           {
            "colorbar": {
             "outlinewidth": 0,
             "ticks": ""
            },
            "colorscale": [
             [
              0,
              "#0d0887"
             ],
             [
              0.1111111111111111,
              "#46039f"
             ],
             [
              0.2222222222222222,
              "#7201a8"
             ],
             [
              0.3333333333333333,
              "#9c179e"
             ],
             [
              0.4444444444444444,
              "#bd3786"
             ],
             [
              0.5555555555555556,
              "#d8576b"
             ],
             [
              0.6666666666666666,
              "#ed7953"
             ],
             [
              0.7777777777777778,
              "#fb9f3a"
             ],
             [
              0.8888888888888888,
              "#fdca26"
             ],
             [
              1,
              "#f0f921"
             ]
            ],
            "type": "histogram2d"
           }
          ],
          "histogram2dcontour": [
           {
            "colorbar": {
             "outlinewidth": 0,
             "ticks": ""
            },
            "colorscale": [
             [
              0,
              "#0d0887"
             ],
             [
              0.1111111111111111,
              "#46039f"
             ],
             [
              0.2222222222222222,
              "#7201a8"
             ],
             [
              0.3333333333333333,
              "#9c179e"
             ],
             [
              0.4444444444444444,
              "#bd3786"
             ],
             [
              0.5555555555555556,
              "#d8576b"
             ],
             [
              0.6666666666666666,
              "#ed7953"
             ],
             [
              0.7777777777777778,
              "#fb9f3a"
             ],
             [
              0.8888888888888888,
              "#fdca26"
             ],
             [
              1,
              "#f0f921"
             ]
            ],
            "type": "histogram2dcontour"
           }
          ],
          "mesh3d": [
           {
            "colorbar": {
             "outlinewidth": 0,
             "ticks": ""
            },
            "type": "mesh3d"
           }
          ],
          "parcoords": [
           {
            "line": {
             "colorbar": {
              "outlinewidth": 0,
              "ticks": ""
             }
            },
            "type": "parcoords"
           }
          ],
          "pie": [
           {
            "automargin": true,
            "type": "pie"
           }
          ],
          "scatter": [
           {
            "marker": {
             "colorbar": {
              "outlinewidth": 0,
              "ticks": ""
             }
            },
            "type": "scatter"
           }
          ],
          "scatter3d": [
           {
            "line": {
             "colorbar": {
              "outlinewidth": 0,
              "ticks": ""
             }
            },
            "marker": {
             "colorbar": {
              "outlinewidth": 0,
              "ticks": ""
             }
            },
            "type": "scatter3d"
           }
          ],
          "scattercarpet": [
           {
            "marker": {
             "colorbar": {
              "outlinewidth": 0,
              "ticks": ""
             }
            },
            "type": "scattercarpet"
           }
          ],
          "scattergeo": [
           {
            "marker": {
             "colorbar": {
              "outlinewidth": 0,
              "ticks": ""
             }
            },
            "type": "scattergeo"
           }
          ],
          "scattergl": [
           {
            "marker": {
             "colorbar": {
              "outlinewidth": 0,
              "ticks": ""
             }
            },
            "type": "scattergl"
           }
          ],
          "scattermapbox": [
           {
            "marker": {
             "colorbar": {
              "outlinewidth": 0,
              "ticks": ""
             }
            },
            "type": "scattermapbox"
           }
          ],
          "scatterpolar": [
           {
            "marker": {
             "colorbar": {
              "outlinewidth": 0,
              "ticks": ""
             }
            },
            "type": "scatterpolar"
           }
          ],
          "scatterpolargl": [
           {
            "marker": {
             "colorbar": {
              "outlinewidth": 0,
              "ticks": ""
             }
            },
            "type": "scatterpolargl"
           }
          ],
          "scatterternary": [
           {
            "marker": {
             "colorbar": {
              "outlinewidth": 0,
              "ticks": ""
             }
            },
            "type": "scatterternary"
           }
          ],
          "surface": [
           {
            "colorbar": {
             "outlinewidth": 0,
             "ticks": ""
            },
            "colorscale": [
             [
              0,
              "#0d0887"
             ],
             [
              0.1111111111111111,
              "#46039f"
             ],
             [
              0.2222222222222222,
              "#7201a8"
             ],
             [
              0.3333333333333333,
              "#9c179e"
             ],
             [
              0.4444444444444444,
              "#bd3786"
             ],
             [
              0.5555555555555556,
              "#d8576b"
             ],
             [
              0.6666666666666666,
              "#ed7953"
             ],
             [
              0.7777777777777778,
              "#fb9f3a"
             ],
             [
              0.8888888888888888,
              "#fdca26"
             ],
             [
              1,
              "#f0f921"
             ]
            ],
            "type": "surface"
           }
          ],
          "table": [
           {
            "cells": {
             "fill": {
              "color": "#EBF0F8"
             },
             "line": {
              "color": "white"
             }
            },
            "header": {
             "fill": {
              "color": "#C8D4E3"
             },
             "line": {
              "color": "white"
             }
            },
            "type": "table"
           }
          ]
         },
         "layout": {
          "annotationdefaults": {
           "arrowcolor": "#2a3f5f",
           "arrowhead": 0,
           "arrowwidth": 1
          },
          "coloraxis": {
           "colorbar": {
            "outlinewidth": 0,
            "ticks": ""
           }
          },
          "colorscale": {
           "diverging": [
            [
             0,
             "#8e0152"
            ],
            [
             0.1,
             "#c51b7d"
            ],
            [
             0.2,
             "#de77ae"
            ],
            [
             0.3,
             "#f1b6da"
            ],
            [
             0.4,
             "#fde0ef"
            ],
            [
             0.5,
             "#f7f7f7"
            ],
            [
             0.6,
             "#e6f5d0"
            ],
            [
             0.7,
             "#b8e186"
            ],
            [
             0.8,
             "#7fbc41"
            ],
            [
             0.9,
             "#4d9221"
            ],
            [
             1,
             "#276419"
            ]
           ],
           "sequential": [
            [
             0,
             "#0d0887"
            ],
            [
             0.1111111111111111,
             "#46039f"
            ],
            [
             0.2222222222222222,
             "#7201a8"
            ],
            [
             0.3333333333333333,
             "#9c179e"
            ],
            [
             0.4444444444444444,
             "#bd3786"
            ],
            [
             0.5555555555555556,
             "#d8576b"
            ],
            [
             0.6666666666666666,
             "#ed7953"
            ],
            [
             0.7777777777777778,
             "#fb9f3a"
            ],
            [
             0.8888888888888888,
             "#fdca26"
            ],
            [
             1,
             "#f0f921"
            ]
           ],
           "sequentialminus": [
            [
             0,
             "#0d0887"
            ],
            [
             0.1111111111111111,
             "#46039f"
            ],
            [
             0.2222222222222222,
             "#7201a8"
            ],
            [
             0.3333333333333333,
             "#9c179e"
            ],
            [
             0.4444444444444444,
             "#bd3786"
            ],
            [
             0.5555555555555556,
             "#d8576b"
            ],
            [
             0.6666666666666666,
             "#ed7953"
            ],
            [
             0.7777777777777778,
             "#fb9f3a"
            ],
            [
             0.8888888888888888,
             "#fdca26"
            ],
            [
             1,
             "#f0f921"
            ]
           ]
          },
          "colorway": [
           "#636efa",
           "#EF553B",
           "#00cc96",
           "#ab63fa",
           "#FFA15A",
           "#19d3f3",
           "#FF6692",
           "#B6E880",
           "#FF97FF",
           "#FECB52"
          ],
          "font": {
           "color": "#2a3f5f"
          },
          "geo": {
           "bgcolor": "white",
           "lakecolor": "white",
           "landcolor": "#E5ECF6",
           "showlakes": true,
           "showland": true,
           "subunitcolor": "white"
          },
          "hoverlabel": {
           "align": "left"
          },
          "hovermode": "closest",
          "mapbox": {
           "style": "light"
          },
          "paper_bgcolor": "white",
          "plot_bgcolor": "#E5ECF6",
          "polar": {
           "angularaxis": {
            "gridcolor": "white",
            "linecolor": "white",
            "ticks": ""
           },
           "bgcolor": "#E5ECF6",
           "radialaxis": {
            "gridcolor": "white",
            "linecolor": "white",
            "ticks": ""
           }
          },
          "scene": {
           "xaxis": {
            "backgroundcolor": "#E5ECF6",
            "gridcolor": "white",
            "gridwidth": 2,
            "linecolor": "white",
            "showbackground": true,
            "ticks": "",
            "zerolinecolor": "white"
           },
           "yaxis": {
            "backgroundcolor": "#E5ECF6",
            "gridcolor": "white",
            "gridwidth": 2,
            "linecolor": "white",
            "showbackground": true,
            "ticks": "",
            "zerolinecolor": "white"
           },
           "zaxis": {
            "backgroundcolor": "#E5ECF6",
            "gridcolor": "white",
            "gridwidth": 2,
            "linecolor": "white",
            "showbackground": true,
            "ticks": "",
            "zerolinecolor": "white"
           }
          },
          "shapedefaults": {
           "line": {
            "color": "#2a3f5f"
           }
          },
          "ternary": {
           "aaxis": {
            "gridcolor": "white",
            "linecolor": "white",
            "ticks": ""
           },
           "baxis": {
            "gridcolor": "white",
            "linecolor": "white",
            "ticks": ""
           },
           "bgcolor": "#E5ECF6",
           "caxis": {
            "gridcolor": "white",
            "linecolor": "white",
            "ticks": ""
           }
          },
          "title": {
           "x": 0.05
          },
          "xaxis": {
           "automargin": true,
           "gridcolor": "white",
           "linecolor": "white",
           "ticks": "",
           "title": {
            "standoff": 15
           },
           "zerolinecolor": "white",
           "zerolinewidth": 2
          },
          "yaxis": {
           "automargin": true,
           "gridcolor": "white",
           "linecolor": "white",
           "ticks": "",
           "title": {
            "standoff": 15
           },
           "zerolinecolor": "white",
           "zerolinewidth": 2
          }
         }
        },
        "title": {
         "text": "Radiant and Dire Win Rate",
         "x": 0.5,
         "xanchor": "center",
         "y": 0.95,
         "yanchor": "top"
        },
        "xaxis": {
         "anchor": "y",
         "domain": [
          0,
          1
         ],
         "matches": "x2",
         "showticklabels": false
        },
        "xaxis2": {
         "anchor": "y2",
         "domain": [
          0,
          1
         ],
         "tickfont": {
          "size": 8
         },
         "title": {
          "text": "Teams"
         }
        },
        "yaxis": {
         "anchor": "x",
         "domain": [
          0.5,
          1
         ]
        },
        "yaxis2": {
         "anchor": "x2",
         "autorange": "reversed",
         "domain": [
          0,
          0.5
         ]
        }
       }
      }
     },
     "metadata": {}
    }
   ],
   "source": [
    "radiant_dire = results.nlargest(n=50, columns='patch_win_rate')\n",
    "\n",
    "fig = make_subplots(rows=2, cols=1,\n",
    "                    shared_xaxes=True,\n",
    "                    vertical_spacing=0)\n",
    "fig.add_trace(go.Bar(x=radiant_dire['name'],\n",
    "                     y=radiant_dire['radiant_wins']/(radiant_dire['radiant_wins'] + radiant_dire['radiant_losses']),\n",
    "                     name='Radiant'),\n",
    "                     row=1, col=1)\n",
    "fig.add_trace(go.Bar(x=radiant_dire['name'],\n",
    "                     y=radiant_dire['dire_win']/(radiant_dire['dire_win'] + radiant_dire['dire_losses']),\n",
    "                     name='Dire'),\n",
    "                     row=2, col=1)\n",
    "fig.update_xaxes(title_text='Teams',\n",
    "                 tickfont_size=8,\n",
    "                 row=2, col=1)\n",
    "fig.update_yaxes(autorange='reversed', row=2, col=1)\n",
    "fig.update_layout(title=dict(text='Radiant and Dire Win Rate',\n",
    "                             x=0.5,\n",
    "                             y=0.95,\n",
    "                             xanchor='center',\n",
    "                             yanchor='top'))\n",
    "fig.show()"
   ]
  },
  {
   "cell_type": "code",
   "execution_count": null,
   "metadata": {},
   "outputs": [],
   "source": []
  }
 ],
 "metadata": {
  "language_info": {
   "codemirror_mode": {
    "name": "ipython",
    "version": 3
   },
   "file_extension": ".py",
   "mimetype": "text/x-python",
   "name": "python",
   "nbconvert_exporter": "python",
   "pygments_lexer": "ipython3",
   "version": "3.7.7-final"
  },
  "orig_nbformat": 2,
  "kernelspec": {
   "name": "python_defaultSpec_1596700419041",
   "display_name": "Python 3.7.7 64-bit ('dota2': conda)"
  }
 },
 "nbformat": 4,
 "nbformat_minor": 2
}